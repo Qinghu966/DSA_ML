{
 "cells": [
  {
   "cell_type": "markdown",
   "metadata": {},
   "source": [
    "# ML Course 4 - Practice (multiple and polynomial regressions)"
   ]
  },
  {
   "cell_type": "markdown",
   "metadata": {},
   "source": [
    "## Subject"
   ]
  },
  {
   "cell_type": "markdown",
   "metadata": {},
   "source": [
    "We will use here the same data set as for practice #3."
   ]
  },
  {
   "cell_type": "markdown",
   "metadata": {},
   "source": [
    "**`FuelConsumption.csv`** is a vehicle fuel consumption data set that contains model-specific fuel consumption.\n",
    "-   **MODELYEAR** e.g. 2014\n",
    "-   **MAKE** e.g. Acura\n",
    "-   **MODEL** e.g. ILX\n",
    "-   **VEHICLE CLASS** e.g. SUV\n",
    "-   **ENGINE SIZE** e.g. 4.7\n",
    "-   **CYLINDERS** e.g 6\n",
    "-   **TRANSMISSION** e.g. A6\n",
    "-   **FUEL CONSUMPTION in CITY(L/100 km)** e.g. 9.9\n",
    "-   **FUEL CONSUMPTION in HWY (L/100 km)** e.g. 8.9\n",
    "-   **FUEL CONSUMPTION COMB (L/100 km)** e.g. 9.2\n",
    "-   **CO2 EMISSIONS (g/km)** e.g. 182   --> low --> 0"
   ]
  },
  {
   "cell_type": "code",
   "execution_count": 1,
   "metadata": {
    "ExecuteTime": {
     "end_time": "2022-04-13T14:41:17.519652Z",
     "start_time": "2022-04-13T14:41:17.504291Z"
    }
   },
   "outputs": [],
   "source": [
    "import numpy as np\n",
    "import matplotlib.pyplot as plt\n",
    "import pandas as pd\n",
    "import sklearn \n",
    "import seaborn as sns"
   ]
  },
  {
   "cell_type": "code",
   "execution_count": 2,
   "metadata": {
    "ExecuteTime": {
     "end_time": "2022-04-13T14:41:17.522246Z",
     "start_time": "2022-04-13T14:41:17.522224Z"
    }
   },
   "outputs": [],
   "source": [
    "data = pd.read_csv(\"FuelConsumption.csv\")"
   ]
  },
  {
   "cell_type": "code",
   "execution_count": 3,
   "metadata": {
    "ExecuteTime": {
     "end_time": "2022-04-13T14:41:17.523800Z",
     "start_time": "2022-04-13T14:41:17.523783Z"
    },
    "scrolled": true
   },
   "outputs": [
    {
     "data": {
      "text/html": [
       "<div>\n",
       "<style scoped>\n",
       "    .dataframe tbody tr th:only-of-type {\n",
       "        vertical-align: middle;\n",
       "    }\n",
       "\n",
       "    .dataframe tbody tr th {\n",
       "        vertical-align: top;\n",
       "    }\n",
       "\n",
       "    .dataframe thead th {\n",
       "        text-align: right;\n",
       "    }\n",
       "</style>\n",
       "<table border=\"1\" class=\"dataframe\">\n",
       "  <thead>\n",
       "    <tr style=\"text-align: right;\">\n",
       "      <th></th>\n",
       "      <th>MODELYEAR</th>\n",
       "      <th>MAKE</th>\n",
       "      <th>MODEL</th>\n",
       "      <th>VEHICLECLASS</th>\n",
       "      <th>ENGINESIZE</th>\n",
       "      <th>CYLINDERS</th>\n",
       "      <th>TRANSMISSION</th>\n",
       "      <th>FUELTYPE</th>\n",
       "      <th>FUELCONSUMPTION_CITY</th>\n",
       "      <th>FUELCONSUMPTION_HWY</th>\n",
       "      <th>FUELCONSUMPTION_COMB</th>\n",
       "      <th>FUELCONSUMPTION_COMB_MPG</th>\n",
       "      <th>CO2EMISSIONS</th>\n",
       "    </tr>\n",
       "  </thead>\n",
       "  <tbody>\n",
       "    <tr>\n",
       "      <th>826</th>\n",
       "      <td>2014</td>\n",
       "      <td>MITSUBISHI</td>\n",
       "      <td>OUTLANDER</td>\n",
       "      <td>SUV - SMALL</td>\n",
       "      <td>2.4</td>\n",
       "      <td>4</td>\n",
       "      <td>AV6</td>\n",
       "      <td>X</td>\n",
       "      <td>9.5</td>\n",
       "      <td>7.5</td>\n",
       "      <td>8.6</td>\n",
       "      <td>33</td>\n",
       "      <td>198</td>\n",
       "    </tr>\n",
       "    <tr>\n",
       "      <th>740</th>\n",
       "      <td>2014</td>\n",
       "      <td>MERCEDES-BENZ</td>\n",
       "      <td>E 300 4MATIC</td>\n",
       "      <td>MID-SIZE</td>\n",
       "      <td>3.5</td>\n",
       "      <td>6</td>\n",
       "      <td>AS7</td>\n",
       "      <td>Z</td>\n",
       "      <td>11.8</td>\n",
       "      <td>8.2</td>\n",
       "      <td>10.2</td>\n",
       "      <td>28</td>\n",
       "      <td>235</td>\n",
       "    </tr>\n",
       "    <tr>\n",
       "      <th>203</th>\n",
       "      <td>2014</td>\n",
       "      <td>CHEVROLET</td>\n",
       "      <td>CRUZE ECO</td>\n",
       "      <td>MID-SIZE</td>\n",
       "      <td>1.4</td>\n",
       "      <td>4</td>\n",
       "      <td>M6</td>\n",
       "      <td>X</td>\n",
       "      <td>8.4</td>\n",
       "      <td>5.6</td>\n",
       "      <td>7.1</td>\n",
       "      <td>40</td>\n",
       "      <td>163</td>\n",
       "    </tr>\n",
       "    <tr>\n",
       "      <th>551</th>\n",
       "      <td>2014</td>\n",
       "      <td>JAGUAR</td>\n",
       "      <td>XF 3.0L AWD</td>\n",
       "      <td>MID-SIZE</td>\n",
       "      <td>3.0</td>\n",
       "      <td>6</td>\n",
       "      <td>AS8</td>\n",
       "      <td>Z</td>\n",
       "      <td>14.7</td>\n",
       "      <td>9.1</td>\n",
       "      <td>12.2</td>\n",
       "      <td>23</td>\n",
       "      <td>281</td>\n",
       "    </tr>\n",
       "    <tr>\n",
       "      <th>903</th>\n",
       "      <td>2014</td>\n",
       "      <td>PORSCHE</td>\n",
       "      <td>PANAMERA 4S</td>\n",
       "      <td>FULL-SIZE</td>\n",
       "      <td>3.0</td>\n",
       "      <td>6</td>\n",
       "      <td>AM7</td>\n",
       "      <td>Z</td>\n",
       "      <td>13.4</td>\n",
       "      <td>8.8</td>\n",
       "      <td>11.3</td>\n",
       "      <td>25</td>\n",
       "      <td>260</td>\n",
       "    </tr>\n",
       "    <tr>\n",
       "      <th>893</th>\n",
       "      <td>2014</td>\n",
       "      <td>PORSCHE</td>\n",
       "      <td>CAYENNE GTS</td>\n",
       "      <td>SUV - STANDARD</td>\n",
       "      <td>4.8</td>\n",
       "      <td>8</td>\n",
       "      <td>A8</td>\n",
       "      <td>Z</td>\n",
       "      <td>15.9</td>\n",
       "      <td>11.4</td>\n",
       "      <td>13.9</td>\n",
       "      <td>20</td>\n",
       "      <td>320</td>\n",
       "    </tr>\n",
       "  </tbody>\n",
       "</table>\n",
       "</div>"
      ],
      "text/plain": [
       "     MODELYEAR           MAKE         MODEL    VEHICLECLASS  ENGINESIZE  \\\n",
       "826       2014     MITSUBISHI     OUTLANDER     SUV - SMALL         2.4   \n",
       "740       2014  MERCEDES-BENZ  E 300 4MATIC        MID-SIZE         3.5   \n",
       "203       2014      CHEVROLET     CRUZE ECO        MID-SIZE         1.4   \n",
       "551       2014         JAGUAR   XF 3.0L AWD        MID-SIZE         3.0   \n",
       "903       2014        PORSCHE   PANAMERA 4S       FULL-SIZE         3.0   \n",
       "893       2014        PORSCHE   CAYENNE GTS  SUV - STANDARD         4.8   \n",
       "\n",
       "     CYLINDERS TRANSMISSION FUELTYPE  FUELCONSUMPTION_CITY  \\\n",
       "826          4          AV6        X                   9.5   \n",
       "740          6          AS7        Z                  11.8   \n",
       "203          4           M6        X                   8.4   \n",
       "551          6          AS8        Z                  14.7   \n",
       "903          6          AM7        Z                  13.4   \n",
       "893          8           A8        Z                  15.9   \n",
       "\n",
       "     FUELCONSUMPTION_HWY  FUELCONSUMPTION_COMB  FUELCONSUMPTION_COMB_MPG  \\\n",
       "826                  7.5                   8.6                        33   \n",
       "740                  8.2                  10.2                        28   \n",
       "203                  5.6                   7.1                        40   \n",
       "551                  9.1                  12.2                        23   \n",
       "903                  8.8                  11.3                        25   \n",
       "893                 11.4                  13.9                        20   \n",
       "\n",
       "     CO2EMISSIONS  \n",
       "826           198  \n",
       "740           235  \n",
       "203           163  \n",
       "551           281  \n",
       "903           260  \n",
       "893           320  "
      ]
     },
     "execution_count": 3,
     "metadata": {},
     "output_type": "execute_result"
    }
   ],
   "source": [
    "data.sample(6)"
   ]
  },
  {
   "cell_type": "markdown",
   "metadata": {},
   "source": [
    "* Make some plots of 'CYLINDERS', 'ENGINESIZE', 'FUELCONSUMPTION_COMB', with respect to 'CO2EMISSIONS'. What do these plots tell you about your capacity to model C02 emissions with a multiple regression model based on the three features?"
   ]
  },
  {
   "cell_type": "markdown",
   "metadata": {},
   "source": [
    "* Train a multiple linear regression with these three predictors. What are the coefficients associated with each predictor?"
   ]
  },
  {
   "cell_type": "markdown",
   "metadata": {},
   "source": [
    "* Assess the performance of your model. What do you think, when compared with the accuracy of the linear regression with 'FUELCONSUMPTION_COMB' as single predictor (computed in last question of practice #3)?"
   ]
  },
  {
   "cell_type": "markdown",
   "metadata": {},
   "source": [
    "* 'FUELCONSUMPTION_CITY' is the urban consumption while FUELCONSUMPTION_HWY is the consumption on the highway. 'FUELCONSUMPTION_COMB' is the combined consumption and is computed as a weighted sum of 'FUELCONSUMPTION_CITY' and 'FUELCONSUMPTION_HWY' so to represent a standard driver behaviour. How are these three features correlated between each other?"
   ]
  },
  {
   "cell_type": "markdown",
   "metadata": {},
   "source": [
    "* Add 'FUELCONSUMPTION_CITY' and 'FUELCONSUMPTION_HWY' as additional predictors to your model of question #2. What is the gain of accuracy, and how do you interpret that?"
   ]
  },
  {
   "cell_type": "markdown",
   "metadata": {},
   "source": [
    "* Plot 'CO2EMISSIONS' with respect to 'FUELCONSUMPTION_COMB' for each possible value of 'FUELTYPE' (i.e. plot the scatter dots with one distinct color for each value of 'FUELTYPE'). Do you think that 'FUELTYPE' and 'FUELCONSUMPTION_COMB' could be sufficient predictors for 'CO2EMISSIONS' estimation with a multiple linear regression model? Compute the accuracy."
   ]
  },
  {
   "cell_type": "markdown",
   "metadata": {},
   "source": [
    "## Proposition of correction"
   ]
  },
  {
   "cell_type": "markdown",
   "metadata": {},
   "source": [
    "* Make some plots of 'CYLINDERS', 'ENGINESIZE', 'FUELCONSUMPTION_COMB', with respect to 'CO2EMISSIONS'. What do these plots tell you about your capacity to model C02 emissions with a multiple regression model based on the three features?"
   ]
  },
  {
   "cell_type": "code",
   "execution_count": 4,
   "metadata": {
    "ExecuteTime": {
     "end_time": "2022-04-13T14:41:17.525170Z",
     "start_time": "2022-04-13T14:41:17.525154Z"
    }
   },
   "outputs": [
    {
     "data": {
      "image/png": "[encoded data removed]",
      "text/plain": [
       "<Figure size 1152x432 with 3 Axes>"
      ]
     },
     "metadata": {
      "needs_background": "light"
     },
     "output_type": "display_data"
    }
   ],
   "source": [
    "fig, axes = plt.subplots(nrows=1, ncols=3, figsize=(16, 6))\n",
    "\n",
    "axes[0].scatter(data['CYLINDERS'], data['CO2EMISSIONS'])\n",
    "axes[0].set_title(\"Cylinders vs. CO2 emission\")\n",
    "axes[0].set_xlabel(\"CYLINDERS\")\n",
    "axes[0].set_ylabel(\"CO2 emission\")\n",
    "\n",
    "axes[1].scatter(data['ENGINESIZE'], data['CO2EMISSIONS'])\n",
    "axes[1].set_title(\"Engine size vs. CO2 emission\")\n",
    "axes[1].set_xlabel(\"Engine size\")\n",
    "\n",
    "axes[2].scatter(data['FUELCONSUMPTION_COMB'], data['CO2EMISSIONS'])\n",
    "axes[2].set_title(\"Combined fuel consumption vs. CO2 emission\")\n",
    "axes[2].set_xlabel(\"Combined fuel consumption\")\n",
    "\n",
    "plt.show()"
   ]
  },
  {
   "cell_type": "markdown",
   "metadata": {},
   "source": [
    "All three features seem to have a linear relationship with CO2 emissions. All trends indicate a positive correlation.  \n",
    "The Combined fuel consumption seems to display two distinct linear trends that are very precise. This indicates a possible interaction with another feature that will need to be investigated further."
   ]
  },
  {
   "cell_type": "markdown",
   "metadata": {},
   "source": [
    "* Train a multiple linear regression with these three predictors. What are the coefficients associated with each predictor?"
   ]
  },
  {
   "cell_type": "code",
   "execution_count": 5,
   "metadata": {
    "ExecuteTime": {
     "end_time": "2022-04-13T14:41:17.526695Z",
     "start_time": "2022-04-13T14:41:17.526676Z"
    }
   },
   "outputs": [],
   "source": [
    "X = data[['CYLINDERS', 'ENGINESIZE', 'FUELCONSUMPTION_COMB']]\n",
    "y = data['CO2EMISSIONS'].values.reshape(-1,1)"
   ]
  },
  {
   "cell_type": "code",
   "execution_count": 6,
   "metadata": {
    "ExecuteTime": {
     "end_time": "2022-04-13T14:41:17.528282Z",
     "start_time": "2022-04-13T14:41:17.528263Z"
    }
   },
   "outputs": [],
   "source": [
    "from sklearn.model_selection import train_test_split\n",
    "X_train, X_test, y_train, y_test = train_test_split(X, y, test_size = 0.25, random_state = 0)"
   ]
  },
  {
   "cell_type": "code",
   "execution_count": 7,
   "metadata": {
    "ExecuteTime": {
     "end_time": "2022-04-13T14:41:17.531651Z",
     "start_time": "2022-04-13T14:41:17.531633Z"
    }
   },
   "outputs": [
    {
     "name": "stdout",
     "output_type": "stream",
     "text": [
      "The linear model is: Y = 68.4 + 7.55*CYLINDERS + 11.9*ENGINESIZE + 9.1*FUELCONSUMPTION_COMB\n"
     ]
    }
   ],
   "source": [
    "from sklearn.linear_model import LinearRegression\n",
    "\n",
    "reg_multiple = LinearRegression()\n",
    "reg_multiple.fit(X_train, y_train)\n",
    "print(\"The linear model is: Y = {:.3} + {:.3}*CYLINDERS + {:.3}*ENGINESIZE + {:.3}*FUELCONSUMPTION_COMB\".format(reg_multiple.intercept_[0], reg_multiple.coef_[0][0], reg_multiple.coef_[0][1], reg_multiple.coef_[0][2]))"
   ]
  },
  {
   "cell_type": "markdown",
   "metadata": {},
   "source": [
    "* Assess the performance of your model. What do you think, when compared with the accuracy of the linear regression with 'FUELCONSUMPTION_COMB' as single predictor (computed in last question of practice #3)?"
   ]
  },
  {
   "cell_type": "code",
   "execution_count": 8,
   "metadata": {
    "ExecuteTime": {
     "end_time": "2022-04-13T14:41:17.533326Z",
     "start_time": "2022-04-13T14:41:17.533309Z"
    }
   },
   "outputs": [],
   "source": [
    "from sklearn.metrics import mean_absolute_error, mean_squared_error, r2_score\n",
    "\n",
    "def assess_performance(y_true, y_pred):\n",
    "    print(\"Mean square error (MSE): %.2f\" % mean_squared_error(y_true, y_pred))\n",
    "    print(\"Root mean square error (RMSE): %.2f\" % mean_squared_error(y_true, y_pred, squared=False))\n",
    "    print(\"Mean absolute error (MAE): %.2f\" % mean_absolute_error(y_true, y_pred))\n",
    "    print(\"R^2 score is: %.2f\" % r2_score(y_true, y_pred))"
   ]
  },
  {
   "cell_type": "code",
   "execution_count": 9,
   "metadata": {
    "ExecuteTime": {
     "end_time": "2022-04-13T14:41:17.534783Z",
     "start_time": "2022-04-13T14:41:17.534768Z"
    }
   },
   "outputs": [
    {
     "name": "stdout",
     "output_type": "stream",
     "text": [
      "Mean square error (MSE): 595.36\n",
      "Root mean square error (RMSE): 24.40\n",
      "Mean absolute error (MAE): 18.14\n",
      "R^2 score is: 0.85\n"
     ]
    }
   ],
   "source": [
    "y_pred = reg_multiple.predict(X_test)\n",
    "assess_performance(y_test, y_pred)"
   ]
  },
  {
   "cell_type": "markdown",
   "metadata": {},
   "source": [
    "With FUELCONSUMPTION_COMB as a unique predictor, we had a mean squared error of 792.17. Here, with our three predictors, we get an MSE of 595.36. We have improved our prediction.  \n",
    "The Mean Absolute Error indicates that the average prediction error shrank from 20.22 to 18.14.  \n",
    "The $R^2$ score indicates that adding two more features allowed the model to explain 85% of the variance, as opposed to 81% with only one predictor."
   ]
  },
  {
   "cell_type": "markdown",
   "metadata": {},
   "source": [
    "* 'FUELCONSUMPTION_CITY' is the urban consumption while FUELCONSUMPTION_HWY is the consumption on the highway. 'FUELCONSUMPTION_COMB' is the combined consumption and is computed as a weighted sum of 'FUELCONSUMPTION_CITY' and 'FUELCONSUMPTION_HWY' so to represent a standard driver behaviour. How are these three features correlated between each other?"
   ]
  },
  {
   "cell_type": "code",
   "execution_count": 10,
   "metadata": {
    "ExecuteTime": {
     "end_time": "2022-04-13T14:41:17.555034Z",
     "start_time": "2022-04-13T14:41:17.537221Z"
    }
   },
   "outputs": [
    {
     "data": {
      "text/html": [
       "<div>\n",
       "<style scoped>\n",
       "    .dataframe tbody tr th:only-of-type {\n",
       "        vertical-align: middle;\n",
       "    }\n",
       "\n",
       "    .dataframe tbody tr th {\n",
       "        vertical-align: top;\n",
       "    }\n",
       "\n",
       "    .dataframe thead th {\n",
       "        text-align: right;\n",
       "    }\n",
       "</style>\n",
       "<table border=\"1\" class=\"dataframe\">\n",
       "  <thead>\n",
       "    <tr style=\"text-align: right;\">\n",
       "      <th></th>\n",
       "      <th>FUELCONSUMPTION_CITY</th>\n",
       "      <th>FUELCONSUMPTION_HWY</th>\n",
       "      <th>FUELCONSUMPTION_COMB</th>\n",
       "    </tr>\n",
       "  </thead>\n",
       "  <tbody>\n",
       "    <tr>\n",
       "      <th>FUELCONSUMPTION_CITY</th>\n",
       "      <td>1.000000</td>\n",
       "      <td>0.965718</td>\n",
       "      <td>0.995542</td>\n",
       "    </tr>\n",
       "    <tr>\n",
       "      <th>FUELCONSUMPTION_HWY</th>\n",
       "      <td>0.965718</td>\n",
       "      <td>1.000000</td>\n",
       "      <td>0.985804</td>\n",
       "    </tr>\n",
       "    <tr>\n",
       "      <th>FUELCONSUMPTION_COMB</th>\n",
       "      <td>0.995542</td>\n",
       "      <td>0.985804</td>\n",
       "      <td>1.000000</td>\n",
       "    </tr>\n",
       "  </tbody>\n",
       "</table>\n",
       "</div>"
      ],
      "text/plain": [
       "                      FUELCONSUMPTION_CITY  FUELCONSUMPTION_HWY  \\\n",
       "FUELCONSUMPTION_CITY              1.000000             0.965718   \n",
       "FUELCONSUMPTION_HWY               0.965718             1.000000   \n",
       "FUELCONSUMPTION_COMB              0.995542             0.985804   \n",
       "\n",
       "                      FUELCONSUMPTION_COMB  \n",
       "FUELCONSUMPTION_CITY              0.995542  \n",
       "FUELCONSUMPTION_HWY               0.985804  \n",
       "FUELCONSUMPTION_COMB              1.000000  "
      ]
     },
     "execution_count": 10,
     "metadata": {},
     "output_type": "execute_result"
    }
   ],
   "source": [
    "correlation = data[['FUELCONSUMPTION_CITY','FUELCONSUMPTION_HWY','FUELCONSUMPTION_COMB']].corr()\n",
    "correlation"
   ]
  },
  {
   "cell_type": "code",
   "execution_count": 11,
   "metadata": {
    "ExecuteTime": {
     "end_time": "2022-04-13T14:41:17.557713Z",
     "start_time": "2022-04-13T14:41:17.557695Z"
    }
   },
   "outputs": [
    {
     "data": {
      "image/png": "[encoded data removed]",
      "text/plain": [
       "<Figure size 432x288 with 2 Axes>"
      ]
     },
     "metadata": {
      "needs_background": "light"
     },
     "output_type": "display_data"
    }
   ],
   "source": [
    "_ = sns.heatmap(correlation, annot=True, fmt='.3g')"
   ]
  },
  {
   "cell_type": "markdown",
   "metadata": {},
   "source": [
    "These three features are highly correlated between each other. Especially, FUELCONSUMPTION_COMB correlated at more than 98.5 % with FUELCONSUMPTION_CITY and FUELCONSUMPTION_HWY."
   ]
  },
  {
   "cell_type": "markdown",
   "metadata": {},
   "source": [
    "* Add 'FUELCONSUMPTION_CITY' and 'FUELCONSUMPTION_HWY' as additional predictors to your model of question #2. What is the gain of accuracy, and how do you interpret that?"
   ]
  },
  {
   "cell_type": "code",
   "execution_count": 12,
   "metadata": {
    "ExecuteTime": {
     "end_time": "2022-04-13T14:41:17.559382Z",
     "start_time": "2022-04-13T14:41:17.559364Z"
    }
   },
   "outputs": [
    {
     "name": "stdout",
     "output_type": "stream",
     "text": [
      "Mean square error (MSE): 597.46\n",
      "Root mean square error (RMSE): 24.44\n",
      "Mean absolute error (MAE): 18.14\n",
      "R^2 score is: 0.85\n"
     ]
    }
   ],
   "source": [
    "# Data preparation\n",
    "X_2 = data[['CYLINDERS', 'ENGINESIZE', 'FUELCONSUMPTION_COMB', 'FUELCONSUMPTION_CITY', 'FUELCONSUMPTION_HWY']]\n",
    "y = data['CO2EMISSIONS'].values.reshape(-1,1)\n",
    "\n",
    "# Train-test split\n",
    "X_train_2, X_test_2, y_train, y_test = train_test_split(X_2, y, test_size = 0.25, random_state = 0)\n",
    "\n",
    "# Model fit\n",
    "reg_multiple_2 = LinearRegression()\n",
    "reg_multiple_2.fit(X_train_2, y_train)\n",
    "\n",
    "# Model performance\n",
    "y_pred_2 = reg_multiple_2.predict(X_test_2)\n",
    "assess_performance(y_test, y_pred_2)"
   ]
  },
  {
   "cell_type": "markdown",
   "metadata": {},
   "source": [
    "The metrics are approximately the same as before, that means that there is no significant gain of accuracy when adding FUELCONSUMPTION_CITY and FUELCONSUMPTION_HWY as predictors.  \n",
    "This is due to the fact that these two features are strongly correlated with FUELCONSUMPTION_COMB and do not bring much extra information. Indeed, this latter is a linear combination of the two previous ones. This is called a **multicollinearity**.  "
   ]
  },
  {
   "cell_type": "markdown",
   "metadata": {},
   "source": [
    "* Plot 'CO2EMISSIONS' with respect to 'FUELCONSUMPTION_COMB' for each possible value of 'FUELTYPE' (i.e. plot the scatter dots with one distinct color for each value of 'FUELTYPE'). Do you think that 'FUELTYPE' and 'FUELCONSUMPTION_COMB' could be sufficient predictors for 'CO2EMISSIONS' estimation with a multiple linear regression model? Compute the accuracy."
   ]
  },
  {
   "cell_type": "code",
   "execution_count": 13,
   "metadata": {
    "ExecuteTime": {
     "end_time": "2022-04-13T14:41:17.560956Z",
     "start_time": "2022-04-13T14:41:17.560937Z"
    }
   },
   "outputs": [
    {
     "data": {
      "image/png": "[encoded data removed]",
      "text/plain": [
       "<Figure size 800x480 with 1 Axes>"
      ]
     },
     "metadata": {
      "needs_background": "light"
     },
     "output_type": "display_data"
    }
   ],
   "source": [
    "plt.figure(figsize=(10,6), dpi= 80)\n",
    "\n",
    "plt.scatter(data[data['FUELTYPE']=='Z']['FUELCONSUMPTION_COMB'], y[data['FUELTYPE']=='Z'], c='red', label='Z')\n",
    "plt.scatter(data[data['FUELTYPE']=='D']['FUELCONSUMPTION_COMB'], y[data['FUELTYPE']=='D'], c='yellow', label='D')\n",
    "plt.scatter(data[data['FUELTYPE']=='X']['FUELCONSUMPTION_COMB'], y[data['FUELTYPE']=='X'], c='green', label='X')\n",
    "plt.scatter(data[data['FUELTYPE']=='E']['FUELCONSUMPTION_COMB'], y[data['FUELTYPE']=='E'], c='blue', label='E')\n",
    "\n",
    "plt.xlabel(\"Combined fuel consumption\")\n",
    "plt.ylabel(\"CO2 emission\")\n",
    "plt.legend(loc='upper left', title='Fuel type')\n",
    "plt.show()"
   ]
  },
  {
   "cell_type": "markdown",
   "metadata": {},
   "source": [
    "Alternative code:"
   ]
  },
  {
   "cell_type": "code",
   "execution_count": 14,
   "metadata": {
    "ExecuteTime": {
     "end_time": "2022-04-13T14:41:17.562721Z",
     "start_time": "2022-04-13T14:41:17.562698Z"
    }
   },
   "outputs": [
    {
     "data": {
      "image/png": "[encoded data removed]",
      "text/plain": [
       "<Figure size 800x480 with 1 Axes>"
      ]
     },
     "metadata": {
      "needs_background": "light"
     },
     "output_type": "display_data"
    }
   ],
   "source": [
    "plt.figure(figsize=(10,6), dpi= 80)\n",
    "\n",
    "for group_name, group in data[['CO2EMISSIONS',  'FUELCONSUMPTION_COMB','FUELTYPE']].groupby('FUELTYPE'):\n",
    "    plt.scatter(group[\"FUELCONSUMPTION_COMB\"], group[\"CO2EMISSIONS\"], label=group_name)\n",
    "\n",
    "plt.xlabel(\"Combined fuel consumption\")\n",
    "plt.ylabel(\"CO2 emission\")\n",
    "plt.legend(loc='upper left', title='Fuel type')\n",
    "plt.show()"
   ]
  },
  {
   "cell_type": "markdown",
   "metadata": {},
   "source": [
    "The graph CO2 emission vs. combined fuel consumption seems to be composed of one line for each fuel type (Z and X are superposed though). It appears that FUELCONSUMPTION_COMB and FUELTYPE are probably sufficient and very good predictors for CO2EMISSION."
   ]
  },
  {
   "cell_type": "code",
   "execution_count": 22,
   "metadata": {
    "ExecuteTime": {
     "end_time": "2022-04-13T14:41:17.564334Z",
     "start_time": "2022-04-13T14:41:17.564318Z"
    }
   },
   "outputs": [
    {
     "name": "stdout",
     "output_type": "stream",
     "text": [
      "Mean square error (MSE): 51.45\n",
      "Root mean square error (RMSE): 7.17\n",
      "Mean absolute error (MAE): 3.41\n",
      "R^2 score is: 0.99\n"
     ]
    }
   ],
   "source": [
    "# Data preparation\n",
    "X_3 = data[['FUELTYPE','FUELCONSUMPTION_COMB']]\n",
    "y = data['CO2EMISSIONS'].values.reshape(-1,1)\n",
    "\n",
    "# Data encoding\n",
    "X_3 = pd.get_dummies(X_3, columns=['FUELTYPE'], prefix=['FUELTYPE_is'])\n",
    "\n",
    "# Train-test split\n",
    "X_train_3, X_test_3, y_train, y_test = train_test_split(X_3, y, test_size = 0.25, random_state = 0)\n",
    "\n",
    "# Model fit\n",
    "reg_multiple_3 = LinearRegression()\n",
    "reg_multiple_3.fit(X_train_3, y_train)\n",
    "\n",
    "# Model accuracy\n",
    "y_pred_3 = reg_multiple_3.predict(X_test_3)\n",
    "assess_performance(y_test, y_pred_3)"
   ]
  },
  {
   "cell_type": "markdown",
   "metadata": {},
   "source": [
    "With this model, the MSE has decreased from 597.46 to 51.45. It means that we have significatively increased the performance of the model.  \n",
    "A more interpretable measure is the MAE, which has fallen from 18.14 to 3.41. This is very small for a target variable that has a mean of 255.  \n",
    "Finally, the $R^2$ score shows that the new model now explains 99% of the variance."
   ]
  },
  {
   "cell_type": "markdown",
   "metadata": {},
   "source": [
    "# Going further \n",
    "### Interpreting the model"
   ]
  },
  {
   "cell_type": "code",
   "execution_count": 24,
   "metadata": {
    "ExecuteTime": {
     "end_time": "2022-04-13T14:41:17.565781Z",
     "start_time": "2022-04-13T14:41:17.565762Z"
    }
   },
   "outputs": [
    {
     "ename": "AttributeError",
     "evalue": "'LinearRegression' object has no attribute 'feature_names'",
     "output_type": "error",
     "traceback": [
      "\u001b[0;31m---------------------------------------------------------------------------\u001b[0m",
      "\u001b[0;31mAttributeError\u001b[0m                            Traceback (most recent call last)",
      "\u001b[0;32m/var/folders/wz/ygjs9w1x62gf_dfw1fscy5w40000gn/T/ipykernel_1847/3864813366.py\u001b[0m in \u001b[0;36m<module>\u001b[0;34m\u001b[0m\n\u001b[1;32m      5\u001b[0m     \u001b[0;32mreturn\u001b[0m \u001b[0mpd\u001b[0m\u001b[0;34m.\u001b[0m\u001b[0mDataFrame\u001b[0m\u001b[0;34m(\u001b[0m\u001b[0mcoefs\u001b[0m\u001b[0;34m,\u001b[0m \u001b[0mindex\u001b[0m\u001b[0;34m=\u001b[0m\u001b[0mfeature_names\u001b[0m\u001b[0;34m,\u001b[0m \u001b[0mcolumns\u001b[0m\u001b[0;34m=\u001b[0m\u001b[0;34m[\u001b[0m\u001b[0;34m'coefficient'\u001b[0m\u001b[0;34m]\u001b[0m\u001b[0;34m)\u001b[0m\u001b[0;34m\u001b[0m\u001b[0;34m\u001b[0m\u001b[0m\n\u001b[1;32m      6\u001b[0m \u001b[0;34m\u001b[0m\u001b[0m\n\u001b[0;32m----> 7\u001b[0;31m \u001b[0mshow_coefficients\u001b[0m\u001b[0;34m(\u001b[0m\u001b[0mreg_multiple_3\u001b[0m\u001b[0;34m)\u001b[0m\u001b[0;34m\u001b[0m\u001b[0;34m\u001b[0m\u001b[0m\n\u001b[0m",
      "\u001b[0;32m/var/folders/wz/ygjs9w1x62gf_dfw1fscy5w40000gn/T/ipykernel_1847/3864813366.py\u001b[0m in \u001b[0;36mshow_coefficients\u001b[0;34m(model, feature_names)\u001b[0m\n\u001b[1;32m      1\u001b[0m \u001b[0;32mdef\u001b[0m \u001b[0mshow_coefficients\u001b[0m\u001b[0;34m(\u001b[0m\u001b[0mmodel\u001b[0m\u001b[0;34m,\u001b[0m \u001b[0mfeature_names\u001b[0m\u001b[0;34m=\u001b[0m\u001b[0;32mNone\u001b[0m\u001b[0;34m)\u001b[0m\u001b[0;34m:\u001b[0m\u001b[0;34m\u001b[0m\u001b[0;34m\u001b[0m\u001b[0m\n\u001b[1;32m      2\u001b[0m     \u001b[0mcoefs\u001b[0m \u001b[0;34m=\u001b[0m \u001b[0mnp\u001b[0m\u001b[0;34m.\u001b[0m\u001b[0mhstack\u001b[0m\u001b[0;34m(\u001b[0m\u001b[0;34m[\u001b[0m\u001b[0mmodel\u001b[0m\u001b[0;34m.\u001b[0m\u001b[0mintercept_\u001b[0m\u001b[0;34m,\u001b[0m \u001b[0mmodel\u001b[0m\u001b[0;34m.\u001b[0m\u001b[0mcoef_\u001b[0m\u001b[0;34m.\u001b[0m\u001b[0msqueeze\u001b[0m\u001b[0;34m(\u001b[0m\u001b[0;34m)\u001b[0m\u001b[0;34m]\u001b[0m\u001b[0;34m)\u001b[0m\u001b[0;34m\u001b[0m\u001b[0;34m\u001b[0m\u001b[0m\n\u001b[0;32m----> 3\u001b[0;31m     \u001b[0mfeature_names\u001b[0m \u001b[0;34m=\u001b[0m \u001b[0mmodel\u001b[0m\u001b[0;34m.\u001b[0m\u001b[0mfeature_names\u001b[0m\u001b[0;34m.\u001b[0m\u001b[0mtolist\u001b[0m\u001b[0;34m(\u001b[0m\u001b[0;34m)\u001b[0m \u001b[0;32mif\u001b[0m \u001b[0mfeature_names\u001b[0m \u001b[0;32mis\u001b[0m \u001b[0;32mNone\u001b[0m \u001b[0;32melse\u001b[0m \u001b[0mfeature_names\u001b[0m\u001b[0;34m.\u001b[0m\u001b[0mtolist\u001b[0m\u001b[0;34m(\u001b[0m\u001b[0;34m)\u001b[0m\u001b[0;34m\u001b[0m\u001b[0;34m\u001b[0m\u001b[0m\n\u001b[0m\u001b[1;32m      4\u001b[0m     \u001b[0mfeature_names\u001b[0m \u001b[0;34m=\u001b[0m \u001b[0;34m[\u001b[0m\u001b[0;34m'Intercept'\u001b[0m\u001b[0;34m]\u001b[0m \u001b[0;34m+\u001b[0m \u001b[0mfeature_names\u001b[0m\u001b[0;34m\u001b[0m\u001b[0;34m\u001b[0m\u001b[0m\n\u001b[1;32m      5\u001b[0m     \u001b[0;32mreturn\u001b[0m \u001b[0mpd\u001b[0m\u001b[0;34m.\u001b[0m\u001b[0mDataFrame\u001b[0m\u001b[0;34m(\u001b[0m\u001b[0mcoefs\u001b[0m\u001b[0;34m,\u001b[0m \u001b[0mindex\u001b[0m\u001b[0;34m=\u001b[0m\u001b[0mfeature_names\u001b[0m\u001b[0;34m,\u001b[0m \u001b[0mcolumns\u001b[0m\u001b[0;34m=\u001b[0m\u001b[0;34m[\u001b[0m\u001b[0;34m'coefficient'\u001b[0m\u001b[0;34m]\u001b[0m\u001b[0;34m)\u001b[0m\u001b[0;34m\u001b[0m\u001b[0;34m\u001b[0m\u001b[0m\n",
      "\u001b[0;31mAttributeError\u001b[0m: 'LinearRegression' object has no attribute 'feature_names'"
     ]
    }
   ],
   "source": [
    "feature_names\n",
    "def show_coefficients(model, feature_names=None):\n",
    "    coefs = np.hstack([model.intercept_, model.coef_.squeeze()])\n",
    "    feature_names = model.feature_names_in_.tolist() if feature_names is None else feature_names.tolist()  \n",
    "    feature_names = ['Intercept'] + feature_names\n",
    "    return pd.DataFrame(coefs, index=feature_names, columns=['coefficient'])\n",
    "\n",
    "show_coefficients(reg_multiple_3)"
   ]
  },
  {
   "cell_type": "code",
   "execution_count": 25,
   "metadata": {
    "ExecuteTime": {
     "end_time": "2022-04-13T14:41:17.567143Z",
     "start_time": "2022-04-13T14:41:17.567127Z"
    }
   },
   "outputs": [
    {
     "ename": "AttributeError",
     "evalue": "'LinearRegression' object has no attribute 'feature_names_in_'",
     "output_type": "error",
     "traceback": [
      "\u001b[0;31m---------------------------------------------------------------------------\u001b[0m",
      "\u001b[0;31mAttributeError\u001b[0m                            Traceback (most recent call last)",
      "\u001b[0;32m/var/folders/wz/ygjs9w1x62gf_dfw1fscy5w40000gn/T/ipykernel_1847/3520872647.py\u001b[0m in \u001b[0;36m<module>\u001b[0;34m\u001b[0m\n\u001b[0;32m----> 1\u001b[0;31m \u001b[0mreg_multiple_3\u001b[0m\u001b[0;34m.\u001b[0m\u001b[0mfeature_names_in_\u001b[0m\u001b[0;34m\u001b[0m\u001b[0;34m\u001b[0m\u001b[0m\n\u001b[0m",
      "\u001b[0;31mAttributeError\u001b[0m: 'LinearRegression' object has no attribute 'feature_names_in_'"
     ]
    }
   ],
   "source": [
    "reg_multiple_3.feature_names_in_"
   ]
  },
  {
   "cell_type": "markdown",
   "metadata": {},
   "source": [
    "# Adding interaction ploynomial features"
   ]
  },
  {
   "cell_type": "code",
   "execution_count": 27,
   "metadata": {
    "ExecuteTime": {
     "end_time": "2022-04-13T14:41:17.568830Z",
     "start_time": "2022-04-13T14:41:17.568812Z"
    }
   },
   "outputs": [
    {
     "name": "stdout",
     "output_type": "stream",
     "text": [
      "Mean square error (MSE): 0.09\n",
      "Root mean square error (RMSE): 0.30\n",
      "Mean absolute error (MAE): 0.25\n",
      "R^2 score is: 1.00\n"
     ]
    }
   ],
   "source": [
    "from sklearn.preprocessing import PolynomialFeatures\n",
    "\n",
    "# Data preparation\n",
    "X_4 = data[['FUELTYPE','FUELCONSUMPTION_COMB']]\n",
    "y = data['CO2EMISSIONS'].values.reshape(-1,1)\n",
    "\n",
    "# Data encoding\n",
    "X_4 = pd.get_dummies(X_4, columns=['FUELTYPE'], prefix=['FUELTYPE_is'])\n",
    "X_4['FUELTYPE_is_XZ'] = X_4['FUELTYPE_is_X'] | X_4['FUELTYPE_is_Z']\n",
    "X_4 = X_4.drop(['FUELTYPE_is_X', 'FUELTYPE_is_Z'], axis='columns')\n",
    "poly_4 = PolynomialFeatures(degree=2, include_bias=False)\n",
    "X_4 = poly_4.fit_transform(X_4)\n",
    "\n",
    "# Train-test split\n",
    "X_train_4, X_test_4, y_train, y_test = train_test_split(X_4, y, test_size = 0.25, random_state = 0)\n",
    "\n",
    "# Model fit\n",
    "reg_multiple_4 = LinearRegression()\n",
    "reg_multiple_4.fit(X_train_4, y_train)\n",
    "\n",
    "# Model accuracy\n",
    "y_pred_4 = reg_multiple_4.predict(X_test_4)\n",
    "assess_performance(y_test, y_pred_4)"
   ]
  },
  {
   "cell_type": "code",
   "execution_count": 28,
   "metadata": {
    "ExecuteTime": {
     "end_time": "2022-04-13T14:41:17.570488Z",
     "start_time": "2022-04-13T14:41:17.570472Z"
    }
   },
   "outputs": [
    {
     "ename": "AttributeError",
     "evalue": "'list' object has no attribute 'tolist'",
     "output_type": "error",
     "traceback": [
      "\u001b[0;31m---------------------------------------------------------------------------\u001b[0m",
      "\u001b[0;31mAttributeError\u001b[0m                            Traceback (most recent call last)",
      "\u001b[0;32m/var/folders/wz/ygjs9w1x62gf_dfw1fscy5w40000gn/T/ipykernel_1847/1871411792.py\u001b[0m in \u001b[0;36m<module>\u001b[0;34m\u001b[0m\n\u001b[0;32m----> 1\u001b[0;31m \u001b[0mshow_coefficients\u001b[0m\u001b[0;34m(\u001b[0m\u001b[0mreg_multiple_4\u001b[0m\u001b[0;34m,\u001b[0m \u001b[0mfeature_names\u001b[0m\u001b[0;34m=\u001b[0m\u001b[0mpoly_4\u001b[0m\u001b[0;34m.\u001b[0m\u001b[0mget_feature_names\u001b[0m\u001b[0;34m(\u001b[0m\u001b[0;34m)\u001b[0m\u001b[0;34m)\u001b[0m\u001b[0;34m\u001b[0m\u001b[0;34m\u001b[0m\u001b[0m\n\u001b[0m",
      "\u001b[0;32m/var/folders/wz/ygjs9w1x62gf_dfw1fscy5w40000gn/T/ipykernel_1847/3864813366.py\u001b[0m in \u001b[0;36mshow_coefficients\u001b[0;34m(model, feature_names)\u001b[0m\n\u001b[1;32m      1\u001b[0m \u001b[0;32mdef\u001b[0m \u001b[0mshow_coefficients\u001b[0m\u001b[0;34m(\u001b[0m\u001b[0mmodel\u001b[0m\u001b[0;34m,\u001b[0m \u001b[0mfeature_names\u001b[0m\u001b[0;34m=\u001b[0m\u001b[0;32mNone\u001b[0m\u001b[0;34m)\u001b[0m\u001b[0;34m:\u001b[0m\u001b[0;34m\u001b[0m\u001b[0;34m\u001b[0m\u001b[0m\n\u001b[1;32m      2\u001b[0m     \u001b[0mcoefs\u001b[0m \u001b[0;34m=\u001b[0m \u001b[0mnp\u001b[0m\u001b[0;34m.\u001b[0m\u001b[0mhstack\u001b[0m\u001b[0;34m(\u001b[0m\u001b[0;34m[\u001b[0m\u001b[0mmodel\u001b[0m\u001b[0;34m.\u001b[0m\u001b[0mintercept_\u001b[0m\u001b[0;34m,\u001b[0m \u001b[0mmodel\u001b[0m\u001b[0;34m.\u001b[0m\u001b[0mcoef_\u001b[0m\u001b[0;34m.\u001b[0m\u001b[0msqueeze\u001b[0m\u001b[0;34m(\u001b[0m\u001b[0;34m)\u001b[0m\u001b[0;34m]\u001b[0m\u001b[0;34m)\u001b[0m\u001b[0;34m\u001b[0m\u001b[0;34m\u001b[0m\u001b[0m\n\u001b[0;32m----> 3\u001b[0;31m     \u001b[0mfeature_names\u001b[0m \u001b[0;34m=\u001b[0m \u001b[0mmodel\u001b[0m\u001b[0;34m.\u001b[0m\u001b[0mfeature_names\u001b[0m\u001b[0;34m.\u001b[0m\u001b[0mtolist\u001b[0m\u001b[0;34m(\u001b[0m\u001b[0;34m)\u001b[0m \u001b[0;32mif\u001b[0m \u001b[0mfeature_names\u001b[0m \u001b[0;32mis\u001b[0m \u001b[0;32mNone\u001b[0m \u001b[0;32melse\u001b[0m \u001b[0mfeature_names\u001b[0m\u001b[0;34m.\u001b[0m\u001b[0mtolist\u001b[0m\u001b[0;34m(\u001b[0m\u001b[0;34m)\u001b[0m\u001b[0;34m\u001b[0m\u001b[0;34m\u001b[0m\u001b[0m\n\u001b[0m\u001b[1;32m      4\u001b[0m     \u001b[0mfeature_names\u001b[0m \u001b[0;34m=\u001b[0m \u001b[0;34m[\u001b[0m\u001b[0;34m'Intercept'\u001b[0m\u001b[0;34m]\u001b[0m \u001b[0;34m+\u001b[0m \u001b[0mfeature_names\u001b[0m\u001b[0;34m\u001b[0m\u001b[0;34m\u001b[0m\u001b[0m\n\u001b[1;32m      5\u001b[0m     \u001b[0;32mreturn\u001b[0m \u001b[0mpd\u001b[0m\u001b[0;34m.\u001b[0m\u001b[0mDataFrame\u001b[0m\u001b[0;34m(\u001b[0m\u001b[0mcoefs\u001b[0m\u001b[0;34m,\u001b[0m \u001b[0mindex\u001b[0m\u001b[0;34m=\u001b[0m\u001b[0mfeature_names\u001b[0m\u001b[0;34m,\u001b[0m \u001b[0mcolumns\u001b[0m\u001b[0;34m=\u001b[0m\u001b[0;34m[\u001b[0m\u001b[0;34m'coefficient'\u001b[0m\u001b[0;34m]\u001b[0m\u001b[0;34m)\u001b[0m\u001b[0;34m\u001b[0m\u001b[0;34m\u001b[0m\u001b[0m\n",
      "\u001b[0;31mAttributeError\u001b[0m: 'list' object has no attribute 'tolist'"
     ]
    }
   ],
   "source": [
    "show_coefficients(reg_multiple_4, feature_names=poly_4.get_feature_names())"
   ]
  },
  {
   "cell_type": "markdown",
   "metadata": {},
   "source": [
    "## With only interaction terms"
   ]
  },
  {
   "cell_type": "code",
   "execution_count": 29,
   "metadata": {
    "ExecuteTime": {
     "end_time": "2022-04-13T14:41:17.572125Z",
     "start_time": "2022-04-13T14:41:17.572108Z"
    }
   },
   "outputs": [
    {
     "name": "stdout",
     "output_type": "stream",
     "text": [
      "Mean square error (MSE): 0.09\n",
      "Root mean square error (RMSE): 0.30\n",
      "Mean absolute error (MAE): 0.25\n",
      "R^2 score is: 1.00\n"
     ]
    }
   ],
   "source": [
    "from sklearn.preprocessing import PolynomialFeatures\n",
    "from sklearn.linear_model import Ridge\n",
    "\n",
    "# Data preparation\n",
    "X_5 = data[['FUELTYPE','FUELCONSUMPTION_COMB']]\n",
    "y = data['CO2EMISSIONS'].values.reshape(-1,1)\n",
    "\n",
    "# Data encoding\n",
    "X_5 = pd.get_dummies(X_5, columns=['FUELTYPE'], prefix=['FUELTYPE_is'])\n",
    "X_5['FUELTYPE_is_XZ'] = X_5['FUELTYPE_is_X'] | X_5['FUELTYPE_is_Z']\n",
    "X_5 = X_5.drop(['FUELTYPE_is_X', 'FUELTYPE_is_Z'], axis='columns')\n",
    "poly_5 = PolynomialFeatures(degree=2, include_bias=False, interaction_only=True)\n",
    "X_5 = poly_5.fit_transform(X_5)\n",
    "\n",
    "# Train-test split\n",
    "X_train_5, X_test_5, y_train, y_test = train_test_split(X_5, y, test_size = 0.25, random_state = 0)\n",
    "\n",
    "# Model fit\n",
    "reg_multiple_5 = Ridge()\n",
    "reg_multiple_5.fit(X_train_5, y_train)\n",
    "\n",
    "# Model accuracy\n",
    "y_pred_5 = reg_multiple_5.predict(X_test_5)\n",
    "assess_performance(y_test, y_pred_5)"
   ]
  },
  {
   "cell_type": "code",
   "execution_count": 31,
   "metadata": {
    "ExecuteTime": {
     "end_time": "2022-04-13T14:41:17.573553Z",
     "start_time": "2022-04-13T14:41:17.573537Z"
    }
   },
   "outputs": [
    {
     "ename": "AttributeError",
     "evalue": "'list' object has no attribute 'tolist'",
     "output_type": "error",
     "traceback": [
      "\u001b[0;31m---------------------------------------------------------------------------\u001b[0m",
      "\u001b[0;31mAttributeError\u001b[0m                            Traceback (most recent call last)",
      "\u001b[0;32m/var/folders/wz/ygjs9w1x62gf_dfw1fscy5w40000gn/T/ipykernel_1847/1989358345.py\u001b[0m in \u001b[0;36m<module>\u001b[0;34m\u001b[0m\n\u001b[0;32m----> 1\u001b[0;31m \u001b[0mshow_coefficients\u001b[0m\u001b[0;34m(\u001b[0m\u001b[0mreg_multiple_5\u001b[0m\u001b[0;34m,\u001b[0m \u001b[0mfeature_names\u001b[0m\u001b[0;34m=\u001b[0m\u001b[0mpoly_5\u001b[0m\u001b[0;34m.\u001b[0m\u001b[0mget_feature_names\u001b[0m\u001b[0;34m(\u001b[0m\u001b[0;34m)\u001b[0m\u001b[0;34m)\u001b[0m\u001b[0;34m\u001b[0m\u001b[0;34m\u001b[0m\u001b[0m\n\u001b[0m",
      "\u001b[0;32m/var/folders/wz/ygjs9w1x62gf_dfw1fscy5w40000gn/T/ipykernel_1847/3864813366.py\u001b[0m in \u001b[0;36mshow_coefficients\u001b[0;34m(model, feature_names)\u001b[0m\n\u001b[1;32m      1\u001b[0m \u001b[0;32mdef\u001b[0m \u001b[0mshow_coefficients\u001b[0m\u001b[0;34m(\u001b[0m\u001b[0mmodel\u001b[0m\u001b[0;34m,\u001b[0m \u001b[0mfeature_names\u001b[0m\u001b[0;34m=\u001b[0m\u001b[0;32mNone\u001b[0m\u001b[0;34m)\u001b[0m\u001b[0;34m:\u001b[0m\u001b[0;34m\u001b[0m\u001b[0;34m\u001b[0m\u001b[0m\n\u001b[1;32m      2\u001b[0m     \u001b[0mcoefs\u001b[0m \u001b[0;34m=\u001b[0m \u001b[0mnp\u001b[0m\u001b[0;34m.\u001b[0m\u001b[0mhstack\u001b[0m\u001b[0;34m(\u001b[0m\u001b[0;34m[\u001b[0m\u001b[0mmodel\u001b[0m\u001b[0;34m.\u001b[0m\u001b[0mintercept_\u001b[0m\u001b[0;34m,\u001b[0m \u001b[0mmodel\u001b[0m\u001b[0;34m.\u001b[0m\u001b[0mcoef_\u001b[0m\u001b[0;34m.\u001b[0m\u001b[0msqueeze\u001b[0m\u001b[0;34m(\u001b[0m\u001b[0;34m)\u001b[0m\u001b[0;34m]\u001b[0m\u001b[0;34m)\u001b[0m\u001b[0;34m\u001b[0m\u001b[0;34m\u001b[0m\u001b[0m\n\u001b[0;32m----> 3\u001b[0;31m     \u001b[0mfeature_names\u001b[0m \u001b[0;34m=\u001b[0m \u001b[0mmodel\u001b[0m\u001b[0;34m.\u001b[0m\u001b[0mfeature_names\u001b[0m\u001b[0;34m.\u001b[0m\u001b[0mtolist\u001b[0m\u001b[0;34m(\u001b[0m\u001b[0;34m)\u001b[0m \u001b[0;32mif\u001b[0m \u001b[0mfeature_names\u001b[0m \u001b[0;32mis\u001b[0m \u001b[0;32mNone\u001b[0m \u001b[0;32melse\u001b[0m \u001b[0mfeature_names\u001b[0m\u001b[0;34m.\u001b[0m\u001b[0mtolist\u001b[0m\u001b[0;34m(\u001b[0m\u001b[0;34m)\u001b[0m\u001b[0;34m\u001b[0m\u001b[0;34m\u001b[0m\u001b[0m\n\u001b[0m\u001b[1;32m      4\u001b[0m     \u001b[0mfeature_names\u001b[0m \u001b[0;34m=\u001b[0m \u001b[0;34m[\u001b[0m\u001b[0;34m'Intercept'\u001b[0m\u001b[0;34m]\u001b[0m \u001b[0;34m+\u001b[0m \u001b[0mfeature_names\u001b[0m\u001b[0;34m\u001b[0m\u001b[0;34m\u001b[0m\u001b[0m\n\u001b[1;32m      5\u001b[0m     \u001b[0;32mreturn\u001b[0m \u001b[0mpd\u001b[0m\u001b[0;34m.\u001b[0m\u001b[0mDataFrame\u001b[0m\u001b[0;34m(\u001b[0m\u001b[0mcoefs\u001b[0m\u001b[0;34m,\u001b[0m \u001b[0mindex\u001b[0m\u001b[0;34m=\u001b[0m\u001b[0mfeature_names\u001b[0m\u001b[0;34m,\u001b[0m \u001b[0mcolumns\u001b[0m\u001b[0;34m=\u001b[0m\u001b[0;34m[\u001b[0m\u001b[0;34m'coefficient'\u001b[0m\u001b[0;34m]\u001b[0m\u001b[0;34m)\u001b[0m\u001b[0;34m\u001b[0m\u001b[0;34m\u001b[0m\u001b[0m\n",
      "\u001b[0;31mAttributeError\u001b[0m: 'list' object has no attribute 'tolist'"
     ]
    }
   ],
   "source": [
    "show_coefficients(reg_multiple_5, feature_names=poly_5.get_feature_names())"
   ]
  },
  {
   "cell_type": "code",
   "execution_count": null,
   "metadata": {},
   "outputs": [],
   "source": []
  },
  {
   "cell_type": "code",
   "execution_count": null,
   "metadata": {},
   "outputs": [],
   "source": []
  }
 ],
 "metadata": {
  "kernelspec": {
   "display_name": "Python 3 (ipykernel)",
   "language": "python",
   "name": "python3"
  },
  "language_info": {
   "codemirror_mode": {
    "name": "ipython",
    "version": 3
   },
   "file_extension": ".py",
   "mimetype": "text/x-python",
   "name": "python",
   "nbconvert_exporter": "python",
   "pygments_lexer": "ipython3",
   "version": "3.9.7"
  }
 },
 "nbformat": 4,
 "nbformat_minor": 4
}
