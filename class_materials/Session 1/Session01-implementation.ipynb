{
 "cells": [
  {
   "cell_type": "markdown",
   "metadata": {},
   "source": [
    "# Session 1 - Demo Implementation"
   ]
  },
  {
   "cell_type": "markdown",
   "metadata": {},
   "source": [
    "Here are some examples of code implementation for data exploration."
   ]
  },
  {
   "cell_type": "markdown",
   "metadata": {},
   "source": [
    "## Import libraries"
   ]
  },
  {
   "cell_type": "code",
   "execution_count": null,
   "metadata": {
    "ExecuteTime": {
     "end_time": "2022-03-09T11:50:19.176949Z",
     "start_time": "2022-03-09T11:50:16.045873Z"
    }
   },
   "outputs": [],
   "source": [
    "import numpy as np\n",
    "import matplotlib.pyplot as plt\n",
    "import pandas as pd\n",
    "import sklearn "
   ]
  },
  {
   "cell_type": "markdown",
   "metadata": {},
   "source": [
    "## Load data set"
   ]
  },
  {
   "cell_type": "code",
   "execution_count": null,
   "metadata": {
    "ExecuteTime": {
     "end_time": "2022-03-09T11:50:19.198513Z",
     "start_time": "2022-03-09T11:50:19.179287Z"
    }
   },
   "outputs": [],
   "source": [
    "dataset = pd.read_csv('iris.csv')"
   ]
  },
  {
   "cell_type": "markdown",
   "metadata": {},
   "source": [
    "*This small dataset from 1936 is often used for testing out machine learning algorithms and visualizations. Each row of the table represents an iris flower, including its species and dimensions of its botanical parts, sepal and petal, in centimeters.*"
   ]
  },
  {
   "cell_type": "markdown",
   "metadata": {},
   "source": [
    "## Pandas DataFrames: Manipulating the dataset"
   ]
  },
  {
   "cell_type": "markdown",
   "metadata": {},
   "source": [
    "### **The dataset is contained in a DataFrame**\n",
    "According to the [documentation](https://pandas.pydata.org/pandas-docs/stable/reference/api/pandas.DataFrame.html):\n",
    "> A DataFrame is a two-dimensional, size-mutable, potentially heterogeneous tabular data.\n",
    "\n",
    "The important term here is _tabular_. `DataFrame`s are the excel sheets of python! In other words, a `DataFrame` is a 2D indexed array.  "
   ]
  },
  {
   "cell_type": "code",
   "execution_count": null,
   "metadata": {
    "ExecuteTime": {
     "end_time": "2022-03-09T11:51:50.655802Z",
     "start_time": "2022-03-09T11:51:50.652153Z"
    }
   },
   "outputs": [],
   "source": [
    "type(dataset)"
   ]
  },
  {
   "cell_type": "markdown",
   "metadata": {},
   "source": [
    "When the last thing you write in a cell is a variable that refers to a DataFrame, Jupyter gives you an overview of the DataFrame."
   ]
  },
  {
   "cell_type": "code",
   "execution_count": null,
   "metadata": {
    "ExecuteTime": {
     "end_time": "2022-03-09T11:53:11.012741Z",
     "start_time": "2022-03-09T11:53:10.990871Z"
    }
   },
   "outputs": [],
   "source": [
    "dataset"
   ]
  },
  {
   "cell_type": "markdown",
   "metadata": {},
   "source": [
    "**Display several lines of the data set:**"
   ]
  },
  {
   "cell_type": "code",
   "execution_count": null,
   "metadata": {
    "ExecuteTime": {
     "end_time": "2022-03-09T11:54:05.401654Z",
     "start_time": "2022-03-09T11:54:05.392956Z"
    }
   },
   "outputs": [],
   "source": [
    "dataset.head()"
   ]
  },
  {
   "cell_type": "code",
   "execution_count": null,
   "metadata": {
    "ExecuteTime": {
     "end_time": "2022-03-09T11:54:10.313998Z",
     "start_time": "2022-03-09T11:54:10.304408Z"
    }
   },
   "outputs": [],
   "source": [
    "dataset.tail(6) # specify how many lines to display"
   ]
  },
  {
   "cell_type": "code",
   "execution_count": null,
   "metadata": {
    "ExecuteTime": {
     "end_time": "2022-03-09T11:54:20.405372Z",
     "start_time": "2022-03-09T11:54:20.396381Z"
    }
   },
   "outputs": [],
   "source": [
    "dataset.sample(n=5)"
   ]
  },
  {
   "cell_type": "markdown",
   "metadata": {},
   "source": [
    "**Info on the dimensions of the data set:**"
   ]
  },
  {
   "cell_type": "code",
   "execution_count": null,
   "metadata": {
    "ExecuteTime": {
     "end_time": "2022-03-09T11:55:23.037038Z",
     "start_time": "2022-03-09T11:55:23.033104Z"
    }
   },
   "outputs": [],
   "source": [
    "dataset.shape"
   ]
  },
  {
   "cell_type": "markdown",
   "metadata": {},
   "source": [
    "**Pandas dataframes are wrapped on NumPy arrays**"
   ]
  },
  {
   "cell_type": "code",
   "execution_count": null,
   "metadata": {
    "ExecuteTime": {
     "end_time": "2022-03-09T11:56:03.038987Z",
     "start_time": "2022-03-09T11:56:03.033397Z"
    }
   },
   "outputs": [],
   "source": [
    "dataset.values"
   ]
  },
  {
   "cell_type": "code",
   "execution_count": null,
   "metadata": {
    "ExecuteTime": {
     "end_time": "2022-03-09T11:56:15.384108Z",
     "start_time": "2022-03-09T11:56:15.381034Z"
    }
   },
   "outputs": [],
   "source": [
    "type(dataset.values)"
   ]
  },
  {
   "cell_type": "markdown",
   "metadata": {},
   "source": [
    "**Info about the columns**"
   ]
  },
  {
   "cell_type": "code",
   "execution_count": null,
   "metadata": {
    "ExecuteTime": {
     "end_time": "2022-03-09T11:56:37.750720Z",
     "start_time": "2022-03-09T11:56:37.742774Z"
    }
   },
   "outputs": [],
   "source": [
    "dataset.info()"
   ]
  },
  {
   "cell_type": "markdown",
   "metadata": {},
   "source": [
    "Notice the **Dtype** column on the right. It stands for **data type**. Pandas as its own data type. Have a look [on the documentation](https://pandas.pydata.org/pandas-docs/stable/user_guide/basics.html#dtypes).  "
   ]
  },
  {
   "cell_type": "markdown",
   "metadata": {},
   "source": [
    "**List of column names:**"
   ]
  },
  {
   "cell_type": "code",
   "execution_count": null,
   "metadata": {
    "ExecuteTime": {
     "end_time": "2022-03-09T11:57:58.005985Z",
     "start_time": "2022-03-09T11:57:58.002206Z"
    }
   },
   "outputs": [],
   "source": [
    "dataset.columns.values"
   ]
  },
  {
   "cell_type": "markdown",
   "metadata": {},
   "source": [
    "## Pandas Series: Manipulating rows or columns"
   ]
  },
  {
   "cell_type": "markdown",
   "metadata": {},
   "source": [
    "### Each column is held in a Pandas Series  \n",
    "\n",
    "According to the [documentation](https://pandas.pydata.org/pandas-docs/stable/reference/api/pandas.Series.html) for `Series`:\n",
    "> A Series is a one-dimensional ndarray with axis labels.\n",
    "\n",
    "Notice how pandas leverage NumPy `ndarray`s as data structures. Also observe that a `Series` object wraps the array with \"axis labels\", also called an _index_.\n",
    "\n",
    "In fact, each column in a DataFrame is just a named `Series`."
   ]
  },
  {
   "cell_type": "code",
   "execution_count": null,
   "metadata": {
    "ExecuteTime": {
     "end_time": "2022-03-09T11:58:59.480195Z",
     "start_time": "2022-03-09T11:58:59.475002Z"
    }
   },
   "outputs": [],
   "source": [
    "first_col = dataset['sepal_length']\n",
    "first_col"
   ]
  },
  {
   "cell_type": "code",
   "execution_count": null,
   "metadata": {
    "ExecuteTime": {
     "end_time": "2022-03-09T11:59:30.389406Z",
     "start_time": "2022-03-09T11:59:30.384180Z"
    }
   },
   "outputs": [],
   "source": [
    "type(first_col)"
   ]
  },
  {
   "cell_type": "code",
   "execution_count": null,
   "metadata": {
    "ExecuteTime": {
     "end_time": "2022-03-09T12:01:13.022148Z",
     "start_time": "2022-03-09T12:01:13.017140Z"
    }
   },
   "outputs": [],
   "source": [
    "first_col.values"
   ]
  },
  {
   "cell_type": "markdown",
   "metadata": {},
   "source": [
    "### Slicing with Series"
   ]
  },
  {
   "cell_type": "code",
   "execution_count": null,
   "metadata": {
    "ExecuteTime": {
     "end_time": "2022-03-09T12:01:34.809550Z",
     "start_time": "2022-03-09T12:01:34.804572Z"
    }
   },
   "outputs": [],
   "source": [
    "first_col[1:4]"
   ]
  },
  {
   "cell_type": "code",
   "execution_count": null,
   "metadata": {
    "ExecuteTime": {
     "end_time": "2022-03-09T12:01:40.279140Z",
     "start_time": "2022-03-09T12:01:40.274705Z"
    }
   },
   "outputs": [],
   "source": [
    "first_col[:4]"
   ]
  },
  {
   "cell_type": "code",
   "execution_count": null,
   "metadata": {
    "ExecuteTime": {
     "end_time": "2022-03-09T12:01:53.114687Z",
     "start_time": "2022-03-09T12:01:53.109665Z"
    }
   },
   "outputs": [],
   "source": [
    "first_col[140:]"
   ]
  },
  {
   "cell_type": "code",
   "execution_count": null,
   "metadata": {
    "ExecuteTime": {
     "end_time": "2022-03-09T12:01:59.608467Z",
     "start_time": "2022-03-09T12:01:59.603614Z"
    }
   },
   "outputs": [],
   "source": [
    "first_col[50:100:5]"
   ]
  },
  {
   "cell_type": "code",
   "execution_count": null,
   "metadata": {
    "ExecuteTime": {
     "end_time": "2022-03-09T12:02:06.148951Z",
     "start_time": "2022-03-09T12:02:06.144172Z"
    }
   },
   "outputs": [],
   "source": [
    "first_col[10::-1]"
   ]
  },
  {
   "cell_type": "markdown",
   "metadata": {},
   "source": [
    "### Rows also can be represented as Series "
   ]
  },
  {
   "cell_type": "markdown",
   "metadata": {},
   "source": [
    "The following Series holds the attributes of the flower at `index 0`."
   ]
  },
  {
   "cell_type": "code",
   "execution_count": null,
   "metadata": {
    "ExecuteTime": {
     "end_time": "2022-03-09T12:03:50.760067Z",
     "start_time": "2022-03-09T12:03:50.755047Z"
    }
   },
   "outputs": [],
   "source": [
    "dataset.loc[0]"
   ]
  },
  {
   "cell_type": "markdown",
   "metadata": {},
   "source": [
    "## Data Selection "
   ]
  },
  {
   "cell_type": "markdown",
   "metadata": {},
   "source": [
    "### Index"
   ]
  },
  {
   "cell_type": "markdown",
   "metadata": {},
   "source": [
    "All DataFrames have an index."
   ]
  },
  {
   "cell_type": "code",
   "execution_count": null,
   "metadata": {
    "ExecuteTime": {
     "end_time": "2022-03-09T12:04:02.534366Z",
     "start_time": "2022-03-09T12:04:02.530476Z"
    }
   },
   "outputs": [],
   "source": [
    "dataset.index"
   ]
  },
  {
   "cell_type": "markdown",
   "metadata": {},
   "source": [
    "This index is shared by all columns."
   ]
  },
  {
   "cell_type": "code",
   "execution_count": null,
   "metadata": {
    "ExecuteTime": {
     "end_time": "2022-03-09T12:04:24.297292Z",
     "start_time": "2022-03-09T12:04:24.293417Z"
    }
   },
   "outputs": [],
   "source": [
    "dataset['sepal_length'].index"
   ]
  },
  {
   "cell_type": "markdown",
   "metadata": {},
   "source": [
    "### Selecting data with `.loc[]`\n",
    "The best Pandas data access methods\" is `.loc[]`. It's a _label_ based selection method. It can be used with one or two arguments:\n",
    "\n",
    "    df.loc[row_label]\n",
    "    df.loc[row_label, column_label]\n",
    "You can write `:` in either position if you want to select _all labels_.\n",
    "\n",
    "ℹ️ This notation is mandatory if you want to **assign** new values to specific cells in the DataFrame."
   ]
  },
  {
   "cell_type": "code",
   "execution_count": null,
   "metadata": {
    "ExecuteTime": {
     "end_time": "2022-03-09T12:06:28.293198Z",
     "start_time": "2022-03-09T12:06:28.288641Z"
    }
   },
   "outputs": [],
   "source": [
    "dataset.loc[0]"
   ]
  },
  {
   "cell_type": "code",
   "execution_count": null,
   "metadata": {
    "ExecuteTime": {
     "end_time": "2022-03-09T12:07:12.857566Z",
     "start_time": "2022-03-09T12:07:12.853397Z"
    }
   },
   "outputs": [],
   "source": [
    "dataset.loc[0, 'petal_width']"
   ]
  },
  {
   "cell_type": "markdown",
   "metadata": {},
   "source": [
    "**We can also use it for slicing**"
   ]
  },
  {
   "cell_type": "code",
   "execution_count": null,
   "metadata": {
    "ExecuteTime": {
     "end_time": "2022-03-09T12:07:18.722506Z",
     "start_time": "2022-03-09T12:07:18.711570Z"
    }
   },
   "outputs": [],
   "source": [
    "dataset.loc[0:8]"
   ]
  },
  {
   "cell_type": "markdown",
   "metadata": {
    "ExecuteTime": {
     "end_time": "2022-03-06T18:58:26.862177Z",
     "start_time": "2022-03-06T18:58:26.858364Z"
    }
   },
   "source": [
    "**We can also slice with labels**"
   ]
  },
  {
   "cell_type": "code",
   "execution_count": null,
   "metadata": {
    "ExecuteTime": {
     "end_time": "2022-03-09T12:08:20.840014Z",
     "start_time": "2022-03-09T12:08:20.830473Z"
    }
   },
   "outputs": [],
   "source": [
    "dataset.loc[:,'sepal_length':'petal_length']"
   ]
  },
  {
   "cell_type": "markdown",
   "metadata": {},
   "source": [
    "### Selecting data with `.iloc[]`\n",
    "`.iloc[]` works just like `.loc[]`, except with _indices_ instead of _labels_. i.e It accepts the row and column positions as opposed to their names. Careful, it can get confusing when your index labels are numbers! It can be used with one or two arguments:\n",
    "\n",
    "    df.iloc[row_index]\n",
    "    df.iloc[row_index, column_index]"
   ]
  },
  {
   "cell_type": "markdown",
   "metadata": {},
   "source": [
    "Here since the row labels are simply their integer index, there is no difference between `.loc[]` and `.iloc[]` for row selection, but notice how we can select the columns by their positions instead of their labels."
   ]
  },
  {
   "cell_type": "code",
   "execution_count": null,
   "metadata": {
    "ExecuteTime": {
     "end_time": "2022-03-09T12:08:50.486862Z",
     "start_time": "2022-03-09T12:08:50.479048Z"
    }
   },
   "outputs": [],
   "source": [
    "dataset.iloc[0:8,3:]"
   ]
  },
  {
   "cell_type": "markdown",
   "metadata": {},
   "source": [
    "## Statistics"
   ]
  },
  {
   "cell_type": "markdown",
   "metadata": {},
   "source": [
    "**Count number of null elements in the columns of the data set:**"
   ]
  },
  {
   "cell_type": "code",
   "execution_count": null,
   "metadata": {
    "ExecuteTime": {
     "end_time": "2022-03-09T12:09:37.942806Z",
     "start_time": "2022-03-09T12:09:37.936881Z"
    }
   },
   "outputs": [],
   "source": [
    "dataset.isna().sum()"
   ]
  },
  {
   "cell_type": "markdown",
   "metadata": {},
   "source": [
    "**Count number of 'setosa' in the 'species' column:**"
   ]
  },
  {
   "cell_type": "code",
   "execution_count": null,
   "metadata": {
    "ExecuteTime": {
     "end_time": "2022-03-09T12:09:48.121611Z",
     "start_time": "2022-03-09T12:09:48.117930Z"
    }
   },
   "outputs": [],
   "source": [
    "nb_setosa = (dataset['species']=='setosa').sum()\n",
    "print(nb_setosa)"
   ]
  },
  {
   "cell_type": "markdown",
   "metadata": {},
   "source": [
    "**Compute the proportion of 'setosa' in the 'species' column:**"
   ]
  },
  {
   "cell_type": "code",
   "execution_count": null,
   "metadata": {
    "ExecuteTime": {
     "end_time": "2022-03-09T12:09:55.667098Z",
     "start_time": "2022-03-09T12:09:55.663894Z"
    }
   },
   "outputs": [],
   "source": [
    "ratio = (dataset['species']=='setosa').sum() / len(dataset)\n",
    "print(ratio)"
   ]
  },
  {
   "cell_type": "markdown",
   "metadata": {},
   "source": [
    "**Table of statistics on each feature:**"
   ]
  },
  {
   "cell_type": "code",
   "execution_count": null,
   "metadata": {
    "ExecuteTime": {
     "end_time": "2022-03-09T12:10:07.426775Z",
     "start_time": "2022-03-09T12:10:07.410719Z"
    }
   },
   "outputs": [],
   "source": [
    "dataset.describe()"
   ]
  },
  {
   "cell_type": "markdown",
   "metadata": {},
   "source": [
    "## Plot"
   ]
  },
  {
   "cell_type": "markdown",
   "metadata": {},
   "source": [
    "### Simple plots"
   ]
  },
  {
   "cell_type": "code",
   "execution_count": null,
   "metadata": {
    "ExecuteTime": {
     "end_time": "2022-03-09T12:11:11.957810Z",
     "start_time": "2022-03-09T12:11:11.822155Z"
    }
   },
   "outputs": [],
   "source": [
    "plt.plot(dataset['sepal_width'])\n",
    "plt.show()"
   ]
  },
  {
   "cell_type": "code",
   "execution_count": null,
   "metadata": {
    "ExecuteTime": {
     "end_time": "2022-03-09T12:12:01.937198Z",
     "start_time": "2022-03-09T12:12:01.825025Z"
    }
   },
   "outputs": [],
   "source": [
    "plt.scatter(dataset['sepal_length'], dataset['sepal_width'])\n",
    "plt.show()"
   ]
  },
  {
   "cell_type": "markdown",
   "metadata": {},
   "source": [
    "### Histograms/distributions"
   ]
  },
  {
   "cell_type": "code",
   "execution_count": null,
   "metadata": {
    "ExecuteTime": {
     "end_time": "2022-03-09T12:12:41.817723Z",
     "start_time": "2022-03-09T12:12:41.692955Z"
    }
   },
   "outputs": [],
   "source": [
    "plt.hist(dataset['sepal_width'])\n",
    "\n",
    "plt.xlabel('sepal width')\n",
    "plt.ylabel('Count')\n",
    "plt.xlim((0, 6))\n",
    "plt.show()"
   ]
  },
  {
   "cell_type": "code",
   "execution_count": null,
   "metadata": {
    "ExecuteTime": {
     "end_time": "2022-03-09T12:14:33.918810Z",
     "start_time": "2022-03-09T12:14:33.778913Z"
    }
   },
   "outputs": [],
   "source": [
    "dataset[['sepal_width', 'sepal_length']].plot(kind='density')\n",
    "\n",
    "plt.xlabel('sepal width')\n",
    "plt.show()"
   ]
  },
  {
   "cell_type": "code",
   "execution_count": null,
   "metadata": {
    "ExecuteTime": {
     "end_time": "2022-03-09T12:14:58.940425Z",
     "start_time": "2022-03-09T12:14:58.794318Z"
    }
   },
   "outputs": [],
   "source": [
    "dataset[['sepal_length', 'sepal_width', 'petal_length', 'petal_width']].boxplot()\n",
    "plt.show()"
   ]
  },
  {
   "cell_type": "markdown",
   "metadata": {},
   "source": [
    "### Scatter plot feature_1 vs. feature_2"
   ]
  },
  {
   "cell_type": "code",
   "execution_count": null,
   "metadata": {
    "ExecuteTime": {
     "end_time": "2022-03-09T12:15:27.584010Z",
     "start_time": "2022-03-09T12:15:27.456346Z"
    }
   },
   "outputs": [],
   "source": [
    "plt.scatter(dataset['sepal_length'], dataset['sepal_width'])\n",
    "plt.xlabel('sepal length')\n",
    "plt.ylabel('sepal width')\n",
    "plt.show()"
   ]
  },
  {
   "cell_type": "code",
   "execution_count": null,
   "metadata": {
    "ExecuteTime": {
     "end_time": "2022-03-09T12:15:33.275846Z",
     "start_time": "2022-03-09T12:15:33.271978Z"
    }
   },
   "outputs": [],
   "source": [
    "dataset['species'].unique()"
   ]
  },
  {
   "cell_type": "code",
   "execution_count": null,
   "metadata": {
    "ExecuteTime": {
     "end_time": "2022-03-09T12:15:38.823203Z",
     "start_time": "2022-03-09T12:15:38.668104Z"
    }
   },
   "outputs": [],
   "source": [
    "unique_species = dataset['species'].unique()\n",
    "\n",
    "\n",
    "for variety in unique_species:\n",
    "    subset = dataset[dataset['species'] == variety]\n",
    "    \n",
    "    plt.scatter(subset['sepal_length'], subset['sepal_width'], label=variety)\n",
    "    \n",
    "plt.title('Sepal characteristics')\n",
    "plt.xlabel('Sepal length')\n",
    "plt.ylabel('Sepal width')\n",
    "plt.legend()\n",
    "plt.show()"
   ]
  },
  {
   "cell_type": "code",
   "execution_count": null,
   "metadata": {
    "ExecuteTime": {
     "end_time": "2022-03-09T12:15:59.680355Z",
     "start_time": "2022-03-09T12:15:58.916433Z"
    }
   },
   "outputs": [],
   "source": [
    "from pandas.plotting import scatter_matrix\n",
    "scatter_matrix(dataset.iloc[:,:4], figsize = [8,8])\n",
    "plt.show()"
   ]
  },
  {
   "cell_type": "markdown",
   "metadata": {},
   "source": [
    "### Bars"
   ]
  },
  {
   "cell_type": "markdown",
   "metadata": {},
   "source": [
    "Display the count of each value within 'species' column:"
   ]
  },
  {
   "cell_type": "code",
   "execution_count": null,
   "metadata": {
    "ExecuteTime": {
     "end_time": "2022-03-09T12:16:08.760063Z",
     "start_time": "2022-03-09T12:16:08.655250Z"
    }
   },
   "outputs": [],
   "source": [
    "df_plot = dataset.groupby(['species']).size()\n",
    "df_plot.plot(kind='bar')\n",
    "plt.ylabel('Count')\n",
    "plt.show()"
   ]
  },
  {
   "cell_type": "markdown",
   "metadata": {},
   "source": [
    "Now let's add a new column in the data set with a feature engineered on the existing ones. Its values are booleans telling if the sepal is long or not (i.e. above a length threshold or not)."
   ]
  },
  {
   "cell_type": "code",
   "execution_count": null,
   "metadata": {
    "ExecuteTime": {
     "end_time": "2022-03-09T12:16:57.702528Z",
     "start_time": "2022-03-09T12:16:57.691843Z"
    }
   },
   "outputs": [],
   "source": [
    "dataset['long_sepal'] = dataset['sepal_length'] > 6\n",
    "dataset.sample(n=7)\n",
    "# dataset = dataset.drop(columns='long_sepal')"
   ]
  },
  {
   "cell_type": "markdown",
   "metadata": {},
   "source": [
    "Display the repartition of long sepal vs. short sepal for each species:"
   ]
  },
  {
   "cell_type": "code",
   "execution_count": null,
   "metadata": {
    "ExecuteTime": {
     "end_time": "2022-03-09T12:17:58.338192Z",
     "start_time": "2022-03-09T12:17:58.206977Z"
    }
   },
   "outputs": [],
   "source": [
    "df_plot = dataset.groupby(['species', 'long_sepal']).size().unstack().plot(kind='bar', stacked=True, color=['orange', 'skyblue'], width=0.8)\n",
    "plt.ylabel('Count')\n",
    "plt.show()"
   ]
  },
  {
   "cell_type": "markdown",
   "metadata": {},
   "source": [
    "### Correlation matrix"
   ]
  },
  {
   "cell_type": "code",
   "execution_count": null,
   "metadata": {
    "ExecuteTime": {
     "end_time": "2022-03-09T12:19:24.583383Z",
     "start_time": "2022-03-09T12:19:24.573963Z"
    }
   },
   "outputs": [],
   "source": [
    "correlation = dataset.iloc[:,:4].corr()\n",
    "correlation"
   ]
  },
  {
   "cell_type": "markdown",
   "metadata": {},
   "source": [
    "**Short version with Seaborn:**"
   ]
  },
  {
   "cell_type": "code",
   "execution_count": null,
   "metadata": {
    "ExecuteTime": {
     "end_time": "2022-03-09T12:19:31.967465Z",
     "start_time": "2022-03-09T12:19:31.641640Z"
    }
   },
   "outputs": [],
   "source": [
    "import seaborn as sns\n",
    "sns.heatmap(correlation, annot=True)\n",
    "plt.show()"
   ]
  },
  {
   "cell_type": "markdown",
   "metadata": {},
   "source": [
    "**Long version with Matplotlib!:**"
   ]
  },
  {
   "cell_type": "code",
   "execution_count": null,
   "metadata": {
    "ExecuteTime": {
     "end_time": "2022-03-09T12:19:43.554031Z",
     "start_time": "2022-03-09T12:19:43.403676Z"
    }
   },
   "outputs": [],
   "source": [
    "fig = plt.figure(figsize=(6,5), dpi= 80)\n",
    "ax = fig.add_subplot(1,1,1)\n",
    "cax = ax.matshow(correlation, cmap = plt.cm.magma)\n",
    "fig.colorbar(cax)\n",
    "ticks = np.arange(0,4)\n",
    "ax.set_xticks(ticks)\n",
    "ax.set_yticks(ticks)\n",
    "names = dataset.iloc[:,:4].columns\n",
    "ax.set_xticklabels(names)\n",
    "ax.set_yticklabels(names)\n",
    "plt.show()"
   ]
  },
  {
   "cell_type": "markdown",
   "metadata": {},
   "source": [
    "Colormaps: https://matplotlib.org/tutorials/colors/colormaps.html"
   ]
  }
 ],
 "metadata": {
  "kernelspec": {
   "display_name": "Python 3",
   "language": "python",
   "name": "python3"
  },
  "language_info": {
   "codemirror_mode": {
    "name": "ipython",
    "version": 3
   },
   "file_extension": ".py",
   "mimetype": "text/x-python",
   "name": "python",
   "nbconvert_exporter": "python",
   "pygments_lexer": "ipython3",
   "version": "3.7.4"
  }
 },
 "nbformat": 4,
 "nbformat_minor": 4
}
