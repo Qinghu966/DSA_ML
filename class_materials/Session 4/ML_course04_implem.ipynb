{
 "cells": [
  {
   "cell_type": "markdown",
   "metadata": {},
   "source": [
    "# Implementation 4 - Multiple linear regression"
   ]
  },
  {
   "cell_type": "code",
   "execution_count": 1,
   "metadata": {
    "ExecuteTime": {
     "end_time": "2022-04-06T14:46:51.467821Z",
     "start_time": "2022-04-06T14:46:49.802088Z"
    }
   },
   "outputs": [],
   "source": [
    "import numpy as np\n",
    "import matplotlib.pyplot as plt\n",
    "import pandas as pd\n",
    "import sklearn \n",
    "import seaborn as sns"
   ]
  },
  {
   "cell_type": "markdown",
   "metadata": {},
   "source": [
    "## Importing the data set"
   ]
  },
  {
   "cell_type": "markdown",
   "metadata": {},
   "source": [
    "This data set is composed of records of money (in k€) invested in TV, radio and newspaper ads for specific products and the corresponding sales (in m$)."
   ]
  },
  {
   "cell_type": "code",
   "execution_count": 2,
   "metadata": {
    "ExecuteTime": {
     "end_time": "2022-04-06T14:46:51.482607Z",
     "start_time": "2022-04-06T14:46:51.469842Z"
    }
   },
   "outputs": [
    {
     "data": {
      "text/html": [
       "<div>\n",
       "<style scoped>\n",
       "    .dataframe tbody tr th:only-of-type {\n",
       "        vertical-align: middle;\n",
       "    }\n",
       "\n",
       "    .dataframe tbody tr th {\n",
       "        vertical-align: top;\n",
       "    }\n",
       "\n",
       "    .dataframe thead th {\n",
       "        text-align: right;\n",
       "    }\n",
       "</style>\n",
       "<table border=\"1\" class=\"dataframe\">\n",
       "  <thead>\n",
       "    <tr style=\"text-align: right;\">\n",
       "      <th></th>\n",
       "      <th>TV</th>\n",
       "      <th>radio</th>\n",
       "      <th>newspaper</th>\n",
       "      <th>sales</th>\n",
       "    </tr>\n",
       "  </thead>\n",
       "  <tbody>\n",
       "    <tr>\n",
       "      <th>1</th>\n",
       "      <td>230.1</td>\n",
       "      <td>37.8</td>\n",
       "      <td>69.2</td>\n",
       "      <td>22.1</td>\n",
       "    </tr>\n",
       "    <tr>\n",
       "      <th>2</th>\n",
       "      <td>44.5</td>\n",
       "      <td>39.3</td>\n",
       "      <td>45.1</td>\n",
       "      <td>10.4</td>\n",
       "    </tr>\n",
       "    <tr>\n",
       "      <th>3</th>\n",
       "      <td>17.2</td>\n",
       "      <td>45.9</td>\n",
       "      <td>69.3</td>\n",
       "      <td>9.3</td>\n",
       "    </tr>\n",
       "    <tr>\n",
       "      <th>4</th>\n",
       "      <td>151.5</td>\n",
       "      <td>41.3</td>\n",
       "      <td>58.5</td>\n",
       "      <td>18.5</td>\n",
       "    </tr>\n",
       "    <tr>\n",
       "      <th>5</th>\n",
       "      <td>180.8</td>\n",
       "      <td>10.8</td>\n",
       "      <td>58.4</td>\n",
       "      <td>12.9</td>\n",
       "    </tr>\n",
       "  </tbody>\n",
       "</table>\n",
       "</div>"
      ],
      "text/plain": [
       "      TV  radio  newspaper  sales\n",
       "1  230.1   37.8       69.2   22.1\n",
       "2   44.5   39.3       45.1   10.4\n",
       "3   17.2   45.9       69.3    9.3\n",
       "4  151.5   41.3       58.5   18.5\n",
       "5  180.8   10.8       58.4   12.9"
      ]
     },
     "execution_count": 2,
     "metadata": {},
     "output_type": "execute_result"
    }
   ],
   "source": [
    "data = pd.read_csv(\"Advertising.csv\", index_col=0)\n",
    "data.head()"
   ]
  },
  {
   "cell_type": "markdown",
   "metadata": {},
   "source": [
    "## Data inspection"
   ]
  },
  {
   "cell_type": "code",
   "execution_count": 3,
   "metadata": {
    "ExecuteTime": {
     "end_time": "2022-04-06T14:46:51.491953Z",
     "start_time": "2022-04-06T14:46:51.484628Z"
    }
   },
   "outputs": [
    {
     "data": {
      "text/html": [
       "<div>\n",
       "<style scoped>\n",
       "    .dataframe tbody tr th:only-of-type {\n",
       "        vertical-align: middle;\n",
       "    }\n",
       "\n",
       "    .dataframe tbody tr th {\n",
       "        vertical-align: top;\n",
       "    }\n",
       "\n",
       "    .dataframe thead th {\n",
       "        text-align: right;\n",
       "    }\n",
       "</style>\n",
       "<table border=\"1\" class=\"dataframe\">\n",
       "  <thead>\n",
       "    <tr style=\"text-align: right;\">\n",
       "      <th></th>\n",
       "      <th>TV</th>\n",
       "      <th>radio</th>\n",
       "      <th>newspaper</th>\n",
       "      <th>sales</th>\n",
       "    </tr>\n",
       "  </thead>\n",
       "  <tbody>\n",
       "    <tr>\n",
       "      <th>TV</th>\n",
       "      <td>1.000000</td>\n",
       "      <td>0.054809</td>\n",
       "      <td>0.056648</td>\n",
       "      <td>0.782224</td>\n",
       "    </tr>\n",
       "    <tr>\n",
       "      <th>radio</th>\n",
       "      <td>0.054809</td>\n",
       "      <td>1.000000</td>\n",
       "      <td>0.354104</td>\n",
       "      <td>0.576223</td>\n",
       "    </tr>\n",
       "    <tr>\n",
       "      <th>newspaper</th>\n",
       "      <td>0.056648</td>\n",
       "      <td>0.354104</td>\n",
       "      <td>1.000000</td>\n",
       "      <td>0.228299</td>\n",
       "    </tr>\n",
       "    <tr>\n",
       "      <th>sales</th>\n",
       "      <td>0.782224</td>\n",
       "      <td>0.576223</td>\n",
       "      <td>0.228299</td>\n",
       "      <td>1.000000</td>\n",
       "    </tr>\n",
       "  </tbody>\n",
       "</table>\n",
       "</div>"
      ],
      "text/plain": [
       "                 TV     radio  newspaper     sales\n",
       "TV         1.000000  0.054809   0.056648  0.782224\n",
       "radio      0.054809  1.000000   0.354104  0.576223\n",
       "newspaper  0.056648  0.354104   1.000000  0.228299\n",
       "sales      0.782224  0.576223   0.228299  1.000000"
      ]
     },
     "execution_count": 3,
     "metadata": {},
     "output_type": "execute_result"
    }
   ],
   "source": [
    "correlation = data.corr()\n",
    "correlation"
   ]
  },
  {
   "cell_type": "code",
   "execution_count": 4,
   "metadata": {
    "ExecuteTime": {
     "end_time": "2022-04-06T14:46:51.681249Z",
     "start_time": "2022-04-06T14:46:51.493529Z"
    }
   },
   "outputs": [
    {
     "data": {
      "image/png": "[encoded data removed]",
      "text/plain": [
       "<Figure size 432x288 with 2 Axes>"
      ]
     },
     "metadata": {
      "needs_background": "light"
     },
     "output_type": "display_data"
    }
   ],
   "source": [
    "_ = sns.heatmap(correlation, annot=True)"
   ]
  },
  {
   "cell_type": "code",
   "execution_count": 5,
   "metadata": {
    "ExecuteTime": {
     "end_time": "2022-04-06T14:46:51.820019Z",
     "start_time": "2022-04-06T14:46:51.683081Z"
    }
   },
   "outputs": [
    {
     "data": {
      "image/png": "[encoded data removed]",
      "text/plain": [
       "<Figure size 800x480 with 1 Axes>"
      ]
     },
     "metadata": {
      "needs_background": "light"
     },
     "output_type": "display_data"
    }
   ],
   "source": [
    "plt.figure(figsize=(10,6), dpi= 80)\n",
    "plt.scatter(data['TV'], data['sales'], c='black')\n",
    "plt.xlabel(\"Money spent on TV ads ($)\")\n",
    "plt.ylabel(\"Sales ($)\")\n",
    "plt.title(\"Sales vs Money spent on TV ads\")\n",
    "plt.show()"
   ]
  },
  {
   "cell_type": "code",
   "execution_count": 6,
   "metadata": {
    "ExecuteTime": {
     "end_time": "2022-04-06T14:46:51.947968Z",
     "start_time": "2022-04-06T14:46:51.821721Z"
    }
   },
   "outputs": [
    {
     "data": {
      "image/png": "[encoded data removed]",
      "text/plain": [
       "<Figure size 800x480 with 1 Axes>"
      ]
     },
     "metadata": {
      "needs_background": "light"
     },
     "output_type": "display_data"
    }
   ],
   "source": [
    "plt.figure(figsize=(10,6), dpi= 80)\n",
    "plt.scatter(data['radio'], data['sales'], c='black')\n",
    "plt.xlabel(\"Money spent on radio ads ($)\")\n",
    "plt.ylabel(\"Sales ($)\")\n",
    "plt.show()"
   ]
  },
  {
   "cell_type": "code",
   "execution_count": 7,
   "metadata": {
    "ExecuteTime": {
     "end_time": "2022-04-06T14:46:52.074213Z",
     "start_time": "2022-04-06T14:46:51.950936Z"
    }
   },
   "outputs": [
    {
     "data": {
      "image/png": "[encoded data removed]",
      "text/plain": [
       "<Figure size 800x480 with 1 Axes>"
      ]
     },
     "metadata": {
      "needs_background": "light"
     },
     "output_type": "display_data"
    }
   ],
   "source": [
    "plt.figure(figsize=(10,6), dpi= 80)\n",
    "plt.scatter(data['newspaper'], data['sales'], c='black')\n",
    "plt.xlabel(\"Money spent on newspaper ads ($)\")\n",
    "plt.ylabel(\"Sales ($)\")\n",
    "plt.title(\"Sales vs money spent on Newspaper ads\")\n",
    "plt.show()"
   ]
  },
  {
   "cell_type": "markdown",
   "metadata": {},
   "source": [
    "We notice from data inspection that 'sales' seems correlated with 'TV' and 'radio'.<br>\n",
    "In this section, we will consider several features and the sales as the response."
   ]
  },
  {
   "cell_type": "markdown",
   "metadata": {},
   "source": [
    "## Data preparation"
   ]
  },
  {
   "cell_type": "code",
   "execution_count": 8,
   "metadata": {
    "ExecuteTime": {
     "end_time": "2022-04-06T14:46:52.079831Z",
     "start_time": "2022-04-06T14:46:52.076566Z"
    }
   },
   "outputs": [],
   "source": [
    "X = data.drop('sales', axis=1)\n",
    "y = data['sales'].values.reshape(-1,1)"
   ]
  },
  {
   "cell_type": "code",
   "execution_count": 9,
   "metadata": {
    "ExecuteTime": {
     "end_time": "2022-04-06T14:46:52.113095Z",
     "start_time": "2022-04-06T14:46:52.081232Z"
    }
   },
   "outputs": [],
   "source": [
    "from sklearn.model_selection import train_test_split\n",
    "X_train, X_val, y_train, y_val = train_test_split(X, y, test_size = 0.25, random_state = 0)"
   ]
  },
  {
   "cell_type": "markdown",
   "metadata": {},
   "source": [
    "## Single linear regression (reminder of ML_course03_implem)"
   ]
  },
  {
   "cell_type": "code",
   "execution_count": 10,
   "metadata": {
    "ExecuteTime": {
     "end_time": "2022-04-06T14:46:52.118046Z",
     "start_time": "2022-04-06T14:46:52.114500Z"
    }
   },
   "outputs": [],
   "source": [
    "X_train_single = X_train[['TV']]\n",
    "X_val_single = X_val[['TV']]"
   ]
  },
  {
   "cell_type": "markdown",
   "metadata": {},
   "source": [
    "### Model fit"
   ]
  },
  {
   "cell_type": "code",
   "execution_count": 11,
   "metadata": {
    "ExecuteTime": {
     "end_time": "2022-04-06T14:46:52.327526Z",
     "start_time": "2022-04-06T14:46:52.119777Z"
    }
   },
   "outputs": [
    {
     "name": "stdout",
     "output_type": "stream",
     "text": [
      "The linear model is: Y = 7.2  +  0.046 * TV\n"
     ]
    }
   ],
   "source": [
    "from sklearn.linear_model import LinearRegression\n",
    "reg_single = LinearRegression()\n",
    "reg_single.fit(X_train_single, y_train)\n",
    "print(\"The linear model is: Y = {:.2}  +  {:.2} * TV\".format(reg_single.intercept_[0], reg_single.coef_[0][0]))"
   ]
  },
  {
   "cell_type": "markdown",
   "metadata": {},
   "source": [
    "### Prediction Quality"
   ]
  },
  {
   "cell_type": "code",
   "execution_count": 12,
   "metadata": {
    "ExecuteTime": {
     "end_time": "2022-04-06T14:46:52.333050Z",
     "start_time": "2022-04-06T14:46:52.329289Z"
    }
   },
   "outputs": [],
   "source": [
    "y_single_pred = reg_single.predict(X_val_single)"
   ]
  },
  {
   "cell_type": "code",
   "execution_count": 13,
   "metadata": {
    "ExecuteTime": {
     "end_time": "2022-04-06T14:46:52.340106Z",
     "start_time": "2022-04-06T14:46:52.334843Z"
    }
   },
   "outputs": [
    {
     "name": "stdout",
     "output_type": "stream",
     "text": [
      "Mean square error (MSE): 8.73\n",
      "Root mean square error (RMSE): 2.95\n",
      "Mean absolute error (MAE): 2.30\n",
      "Coefficient of determination (R^2): 0.69\n"
     ]
    }
   ],
   "source": [
    "from sklearn.metrics import r2_score\n",
    "\n",
    "def evaluate_regression(y_pred, y_val):\n",
    "    y_pred = y_pred.squeeze()\n",
    "    y_val = y_val.squeeze()\n",
    "    print(\"Mean square error (MSE): %.2f\" % np.mean((y_pred - y_val) ** 2))\n",
    "    print(\"Root mean square error (RMSE): %.2f\" % np.sqrt(np.mean((y_pred - y_val) ** 2)))\n",
    "    print(\"Mean absolute error (MAE): %.2f\" % np.mean(abs(y_pred - y_val)))\n",
    "    print(\"Coefficient of determination (R^2): %.2f\" % r2_score(y_val, y_pred))\n",
    "\n",
    "evaluate_regression(y_single_pred, y_val)"
   ]
  },
  {
   "cell_type": "markdown",
   "metadata": {},
   "source": [
    "## Multiple linear regression"
   ]
  },
  {
   "cell_type": "markdown",
   "metadata": {},
   "source": [
    "### Model fit"
   ]
  },
  {
   "cell_type": "code",
   "execution_count": 14,
   "metadata": {
    "ExecuteTime": {
     "end_time": "2022-04-06T14:46:52.347441Z",
     "start_time": "2022-04-06T14:46:52.342015Z"
    }
   },
   "outputs": [
    {
     "name": "stdout",
     "output_type": "stream",
     "text": [
      "The linear model is: Y = 2.9  +  0.044 * TV  +  0.2 * radio  +  0.0012 * newspaper\n"
     ]
    }
   ],
   "source": [
    "reg_multiple = LinearRegression()\n",
    "reg_multiple.fit(X_train, y_train)\n",
    "print(\"The linear model is: Y = {:.2}  +  {:.2} * TV  +  {:.2} * radio  +  {:.2} * newspaper\".format(reg_multiple.intercept_[0], reg_multiple.coef_[0][0], reg_multiple.coef_[0][1], reg_multiple.coef_[0][2]))"
   ]
  },
  {
   "cell_type": "code",
   "execution_count": 15,
   "metadata": {
    "ExecuteTime": {
     "end_time": "2022-04-06T14:46:52.464010Z",
     "start_time": "2022-04-06T14:46:52.349379Z"
    }
   },
   "outputs": [
    {
     "data": {
      "image/png": "[encoded data removed]",
      "text/plain": [
       "<Figure size 432x288 with 1 Axes>"
      ]
     },
     "metadata": {
      "needs_background": "light"
     },
     "output_type": "display_data"
    }
   ],
   "source": [
    "from mpl_toolkits import mplot3d\n",
    "\n",
    "fig = plt.figure()\n",
    "ax = plt.axes(projection=\"3d\")\n",
    "ax.scatter3D(X_train['TV'], X_train['radio'], y_train.squeeze())\n",
    "ax.set_xlabel('TV')\n",
    "ax.set_ylabel('Radio')\n",
    "ax.set_zlabel('Sales')\n",
    "plt.show()"
   ]
  },
  {
   "cell_type": "markdown",
   "metadata": {},
   "source": [
    "### Prediction Quality"
   ]
  },
  {
   "cell_type": "code",
   "execution_count": 16,
   "metadata": {
    "ExecuteTime": {
     "end_time": "2022-04-06T14:46:52.470460Z",
     "start_time": "2022-04-06T14:46:52.465795Z"
    },
    "scrolled": true
   },
   "outputs": [
    {
     "name": "stdout",
     "output_type": "stream",
     "text": [
      "Mean square error (MSE): 4.01\n",
      "Root mean square error (RMSE): 2.00\n",
      "Mean absolute error (MAE): 1.30\n",
      "Coefficient of determination (R^2): 0.86\n"
     ]
    }
   ],
   "source": [
    "y_pred = reg_multiple.predict(X_val)\n",
    "\n",
    "evaluate_regression(y_pred, y_val)"
   ]
  },
  {
   "cell_type": "markdown",
   "metadata": {},
   "source": [
    "## Polynomial regression"
   ]
  },
  {
   "cell_type": "markdown",
   "metadata": {},
   "source": [
    "### Polynomial features based on TV feature only"
   ]
  },
  {
   "cell_type": "markdown",
   "metadata": {},
   "source": [
    "#### What do the polynomial features look like?"
   ]
  },
  {
   "cell_type": "code",
   "execution_count": 17,
   "metadata": {
    "ExecuteTime": {
     "end_time": "2022-04-06T14:46:52.482030Z",
     "start_time": "2022-04-06T14:46:52.472717Z"
    }
   },
   "outputs": [
    {
     "data": {
      "text/html": [
       "<div>\n",
       "<style scoped>\n",
       "    .dataframe tbody tr th:only-of-type {\n",
       "        vertical-align: middle;\n",
       "    }\n",
       "\n",
       "    .dataframe tbody tr th {\n",
       "        vertical-align: top;\n",
       "    }\n",
       "\n",
       "    .dataframe thead th {\n",
       "        text-align: right;\n",
       "    }\n",
       "</style>\n",
       "<table border=\"1\" class=\"dataframe\">\n",
       "  <thead>\n",
       "    <tr style=\"text-align: right;\">\n",
       "      <th></th>\n",
       "      <th>TV</th>\n",
       "      <th>TV^2</th>\n",
       "    </tr>\n",
       "  </thead>\n",
       "  <tbody>\n",
       "    <tr>\n",
       "      <th>0</th>\n",
       "      <td>109.8</td>\n",
       "      <td>12056.04</td>\n",
       "    </tr>\n",
       "    <tr>\n",
       "      <th>1</th>\n",
       "      <td>229.5</td>\n",
       "      <td>52670.25</td>\n",
       "    </tr>\n",
       "    <tr>\n",
       "      <th>2</th>\n",
       "      <td>253.8</td>\n",
       "      <td>64414.44</td>\n",
       "    </tr>\n",
       "    <tr>\n",
       "      <th>3</th>\n",
       "      <td>184.9</td>\n",
       "      <td>34188.01</td>\n",
       "    </tr>\n",
       "    <tr>\n",
       "      <th>4</th>\n",
       "      <td>44.7</td>\n",
       "      <td>1998.09</td>\n",
       "    </tr>\n",
       "  </tbody>\n",
       "</table>\n",
       "</div>"
      ],
      "text/plain": [
       "      TV      TV^2\n",
       "0  109.8  12056.04\n",
       "1  229.5  52670.25\n",
       "2  253.8  64414.44\n",
       "3  184.9  34188.01\n",
       "4   44.7   1998.09"
      ]
     },
     "execution_count": 17,
     "metadata": {},
     "output_type": "execute_result"
    }
   ],
   "source": [
    "from sklearn.preprocessing import PolynomialFeatures\n",
    "\n",
    "poly = PolynomialFeatures(degree=2, include_bias=False)\n",
    "X_train_single_poly = poly.fit_transform(X_train_single)\n",
    "\n",
    "X_train_single_poly = pd.DataFrame(X_train_single_poly, columns=poly.get_feature_names_out())\n",
    "X_train_single_poly.head()"
   ]
  },
  {
   "cell_type": "markdown",
   "metadata": {},
   "source": [
    "#### The polynomial transformer can be integrated with a regressor in a Pipeline "
   ]
  },
  {
   "cell_type": "code",
   "execution_count": 18,
   "metadata": {
    "ExecuteTime": {
     "end_time": "2022-04-06T14:46:52.535024Z",
     "start_time": "2022-04-06T14:46:52.483769Z"
    }
   },
   "outputs": [
    {
     "data": {
      "text/plain": [
       "array([[ 6.17013309, -2.35047082]])"
      ]
     },
     "execution_count": 18,
     "metadata": {},
     "output_type": "execute_result"
    }
   ],
   "source": [
    "from sklearn.pipeline import Pipeline\n",
    "from sklearn.preprocessing import StandardScaler\n",
    "\n",
    "reg_single_poly = Pipeline([\n",
    "    ('poly', poly),\n",
    "    ('scaler', StandardScaler()),\n",
    "    ('lin_regression', LinearRegression())\n",
    "])\n",
    "reg_single_poly.fit(X_train_single, y_train)\n",
    "reg_single_poly.named_steps['lin_regression'].coef_"
   ]
  },
  {
   "cell_type": "code",
   "execution_count": 19,
   "metadata": {
    "ExecuteTime": {
     "end_time": "2022-04-06T14:46:52.724812Z",
     "start_time": "2022-04-06T14:46:52.537122Z"
    }
   },
   "outputs": [
    {
     "data": {
      "image/png": "[encoded data removed]",
      "text/plain": [
       "<Figure size 1152x576 with 1 Axes>"
      ]
     },
     "metadata": {
      "needs_background": "light"
     },
     "output_type": "display_data"
    }
   ],
   "source": [
    "X_plot = pd.DataFrame({'TV': np.arange(min(data['TV']),max(data['TV']),1)})\n",
    "y_single_plot = reg_single.predict(X_plot)\n",
    "y_poly_plot = reg_single_poly.predict(X_plot)\n",
    "\n",
    "plt.figure(figsize=(16, 8))\n",
    "plt.scatter(X_train['TV'], y_train, c='lightgray')\n",
    "plt.scatter(X_val['TV'], y_val, c='black')\n",
    "plt.plot(X_plot, y_single_plot, c='lightblue', linewidth=2, label='single linear')\n",
    "plt.plot(X_plot, y_poly_plot, c='blue', linewidth=2, label='polynomial')\n",
    "\n",
    "plt.xlabel(\"Money spent on TV ads ($)\")\n",
    "plt.ylabel(\"Sales ($)\")\n",
    "plt.legend()\n",
    "plt.show()"
   ]
  },
  {
   "cell_type": "markdown",
   "metadata": {},
   "source": [
    "### Model performance: Polynomial"
   ]
  },
  {
   "cell_type": "code",
   "execution_count": 20,
   "metadata": {
    "ExecuteTime": {
     "end_time": "2022-04-06T14:46:52.732291Z",
     "start_time": "2022-04-06T14:46:52.726751Z"
    }
   },
   "outputs": [
    {
     "name": "stdout",
     "output_type": "stream",
     "text": [
      "Mean square error (MSE): 9.04\n",
      "Root mean square error (RMSE): 3.01\n",
      "Mean absolute error (MAE): 2.34\n",
      "Coefficient of determination (R^2): 0.68\n"
     ]
    }
   ],
   "source": [
    "y_pred = reg_single_poly.predict(X_val_single)\n",
    "evaluate_regression(y_pred, y_val)"
   ]
  },
  {
   "cell_type": "markdown",
   "metadata": {},
   "source": [
    "### Polynomial Multiple linear regression (with interaction)"
   ]
  },
  {
   "cell_type": "code",
   "execution_count": 21,
   "metadata": {
    "ExecuteTime": {
     "end_time": "2022-04-06T14:46:52.752057Z",
     "start_time": "2022-04-06T14:46:52.735442Z"
    }
   },
   "outputs": [
    {
     "data": {
      "text/html": [
       "<div>\n",
       "<style scoped>\n",
       "    .dataframe tbody tr th:only-of-type {\n",
       "        vertical-align: middle;\n",
       "    }\n",
       "\n",
       "    .dataframe tbody tr th {\n",
       "        vertical-align: top;\n",
       "    }\n",
       "\n",
       "    .dataframe thead th {\n",
       "        text-align: right;\n",
       "    }\n",
       "</style>\n",
       "<table border=\"1\" class=\"dataframe\">\n",
       "  <thead>\n",
       "    <tr style=\"text-align: right;\">\n",
       "      <th></th>\n",
       "      <th>1</th>\n",
       "      <th>TV</th>\n",
       "      <th>radio</th>\n",
       "      <th>newspaper</th>\n",
       "      <th>TV^2</th>\n",
       "      <th>TV radio</th>\n",
       "      <th>TV newspaper</th>\n",
       "      <th>radio^2</th>\n",
       "      <th>radio newspaper</th>\n",
       "      <th>newspaper^2</th>\n",
       "    </tr>\n",
       "  </thead>\n",
       "  <tbody>\n",
       "    <tr>\n",
       "      <th>0</th>\n",
       "      <td>1.0</td>\n",
       "      <td>109.8</td>\n",
       "      <td>14.3</td>\n",
       "      <td>31.7</td>\n",
       "      <td>12056.04</td>\n",
       "      <td>1570.14</td>\n",
       "      <td>3480.66</td>\n",
       "      <td>204.49</td>\n",
       "      <td>453.31</td>\n",
       "      <td>1004.89</td>\n",
       "    </tr>\n",
       "    <tr>\n",
       "      <th>1</th>\n",
       "      <td>1.0</td>\n",
       "      <td>229.5</td>\n",
       "      <td>32.3</td>\n",
       "      <td>74.2</td>\n",
       "      <td>52670.25</td>\n",
       "      <td>7412.85</td>\n",
       "      <td>17028.90</td>\n",
       "      <td>1043.29</td>\n",
       "      <td>2396.66</td>\n",
       "      <td>5505.64</td>\n",
       "    </tr>\n",
       "    <tr>\n",
       "      <th>2</th>\n",
       "      <td>1.0</td>\n",
       "      <td>253.8</td>\n",
       "      <td>21.3</td>\n",
       "      <td>30.0</td>\n",
       "      <td>64414.44</td>\n",
       "      <td>5405.94</td>\n",
       "      <td>7614.00</td>\n",
       "      <td>453.69</td>\n",
       "      <td>639.00</td>\n",
       "      <td>900.00</td>\n",
       "    </tr>\n",
       "    <tr>\n",
       "      <th>3</th>\n",
       "      <td>1.0</td>\n",
       "      <td>184.9</td>\n",
       "      <td>21.0</td>\n",
       "      <td>22.0</td>\n",
       "      <td>34188.01</td>\n",
       "      <td>3882.90</td>\n",
       "      <td>4067.80</td>\n",
       "      <td>441.00</td>\n",
       "      <td>462.00</td>\n",
       "      <td>484.00</td>\n",
       "    </tr>\n",
       "    <tr>\n",
       "      <th>4</th>\n",
       "      <td>1.0</td>\n",
       "      <td>44.7</td>\n",
       "      <td>25.8</td>\n",
       "      <td>20.6</td>\n",
       "      <td>1998.09</td>\n",
       "      <td>1153.26</td>\n",
       "      <td>920.82</td>\n",
       "      <td>665.64</td>\n",
       "      <td>531.48</td>\n",
       "      <td>424.36</td>\n",
       "    </tr>\n",
       "  </tbody>\n",
       "</table>\n",
       "</div>"
      ],
      "text/plain": [
       "     1     TV  radio  newspaper      TV^2  TV radio  TV newspaper  radio^2  \\\n",
       "0  1.0  109.8   14.3       31.7  12056.04   1570.14       3480.66   204.49   \n",
       "1  1.0  229.5   32.3       74.2  52670.25   7412.85      17028.90  1043.29   \n",
       "2  1.0  253.8   21.3       30.0  64414.44   5405.94       7614.00   453.69   \n",
       "3  1.0  184.9   21.0       22.0  34188.01   3882.90       4067.80   441.00   \n",
       "4  1.0   44.7   25.8       20.6   1998.09   1153.26        920.82   665.64   \n",
       "\n",
       "   radio newspaper  newspaper^2  \n",
       "0           453.31      1004.89  \n",
       "1          2396.66      5505.64  \n",
       "2           639.00       900.00  \n",
       "3           462.00       484.00  \n",
       "4           531.48       424.36  "
      ]
     },
     "execution_count": 21,
     "metadata": {},
     "output_type": "execute_result"
    }
   ],
   "source": [
    "from sklearn.preprocessing import PolynomialFeatures\n",
    "\n",
    "poly_multi = PolynomialFeatures(degree=2, include_bias=True, interaction_only=False)\n",
    "X_train_poly = poly_multi.fit_transform(X_train)\n",
    "\n",
    "pd.DataFrame(X_train_poly, columns=poly_multi.get_feature_names_out()).head()"
   ]
  },
  {
   "cell_type": "code",
   "execution_count": 22,
   "metadata": {
    "ExecuteTime": {
     "end_time": "2022-04-06T14:46:52.767610Z",
     "start_time": "2022-04-06T14:46:52.758280Z"
    }
   },
   "outputs": [
    {
     "data": {
      "text/plain": [
       "array([[ 0.00000000e+00,  4.27468491e+00,  3.56670496e-01,\n",
       "         5.67459276e-04, -2.65819286e+00,  3.55319563e+00,\n",
       "        -2.04832925e-01,  2.05151419e-01, -9.83370161e-03,\n",
       "         1.78060575e-01]])"
      ]
     },
     "execution_count": 22,
     "metadata": {},
     "output_type": "execute_result"
    }
   ],
   "source": [
    "reg_multi = Pipeline([\n",
    "    ('poly', poly_multi),\n",
    "    ('scaler', StandardScaler()),\n",
    "    ('regression', LinearRegression())\n",
    "])\n",
    "reg_multi.fit(X_train, y_train)\n",
    "reg_multi.named_steps['regression'].coef_"
   ]
  },
  {
   "cell_type": "markdown",
   "metadata": {},
   "source": [
    "#### Accuracy"
   ]
  },
  {
   "cell_type": "code",
   "execution_count": 23,
   "metadata": {
    "ExecuteTime": {
     "end_time": "2022-04-06T14:46:52.776194Z",
     "start_time": "2022-04-06T14:46:52.770109Z"
    }
   },
   "outputs": [
    {
     "name": "stdout",
     "output_type": "stream",
     "text": [
      "Mean square error (MSE): 0.79\n",
      "Root mean square error (RMSE): 0.89\n",
      "Mean absolute error (MAE): 0.53\n",
      "Coefficient of determination (R^2): 0.97\n"
     ]
    }
   ],
   "source": [
    "y_pred = reg_multi.predict(X_val)\n",
    "evaluate_regression(y_pred, y_val)"
   ]
  },
  {
   "cell_type": "markdown",
   "metadata": {},
   "source": [
    "### Regularization "
   ]
  },
  {
   "cell_type": "markdown",
   "metadata": {},
   "source": [
    "We can try to increase the complexity of our model as much as we can to see if the validation error gets even lower."
   ]
  },
  {
   "cell_type": "code",
   "execution_count": 24,
   "metadata": {
    "ExecuteTime": {
     "end_time": "2022-04-06T14:46:52.810781Z",
     "start_time": "2022-04-06T14:46:52.778652Z"
    }
   },
   "outputs": [
    {
     "data": {
      "text/plain": [
       "array([[ 7.41710426e-07,  1.67557582e+02, -1.23575400e+00,\n",
       "         1.32571278e+02, -5.69640959e+02, -8.23798893e+01,\n",
       "        -7.30567065e+02,  2.06135787e+02, -3.19716851e+02,\n",
       "        -3.99411604e+02,  4.61860599e+02,  7.15986902e+02,\n",
       "         1.55893515e+03, -1.95837557e+03,  1.59071371e+03,\n",
       "         1.38652396e+03,  1.41625774e+03, -1.08305460e+03,\n",
       "         1.30173214e+03,  4.26869137e+02,  7.06991005e+02,\n",
       "        -9.10566115e+02, -1.00622048e+03,  2.39183518e+03,\n",
       "        -2.92953640e+03, -1.49672993e+03,  1.80494948e+03,\n",
       "         2.10315023e+03, -3.35380705e+03, -9.61132106e+02,\n",
       "        -4.80305854e+03,  9.63362034e+02,  7.75213815e+02,\n",
       "        -1.55021159e+03, -2.44936486e+02, -8.25392572e+02,\n",
       "         3.65833516e+01, -7.49717693e+02, -7.19010405e+02,\n",
       "         7.38096119e+02, -7.89445885e+02, -1.40159144e+03,\n",
       "        -1.68204827e+03,  3.37299745e+03,  1.70897896e+03,\n",
       "         2.05684288e+02,  1.35716178e+02, -1.94173284e+03,\n",
       "         8.78666791e+02, -9.28820001e+02,  1.94263837e+03,\n",
       "         2.78789518e+03, -3.18273423e+03,  1.52887391e+03,\n",
       "         1.70203781e+01,  7.59141773e+02, -5.19029533e+02,\n",
       "        -5.36521534e+02,  6.15553044e+02,  4.13496289e+02,\n",
       "         1.49946576e+03, -5.09898219e+02, -1.33563787e+03,\n",
       "         6.72886406e+02,  1.14539560e+03,  2.60865623e+03,\n",
       "        -1.81120528e+02, -2.85696485e+03,  8.87702111e+02,\n",
       "         2.56703909e+03, -1.51731335e+03,  1.67830521e+02,\n",
       "         4.66296000e+02, -1.26187147e+03,  2.40714416e+03,\n",
       "        -4.57169136e+02,  1.42296599e+02,  3.15672160e+03,\n",
       "        -7.10994556e+02,  1.41235912e+03, -2.93445660e+03,\n",
       "         2.08632555e+03, -2.78599000e+01, -9.51226583e+01,\n",
       "         2.31652752e+02,  4.47811121e+02,  1.40870277e+03,\n",
       "        -5.25998470e+02,  5.28336419e+01, -1.96288201e+02,\n",
       "         1.57357826e+03,  1.57849760e+03, -1.06615938e+03,\n",
       "         9.69832205e+02,  1.20900324e+02, -1.00883999e+03,\n",
       "         5.47721228e+02, -8.44157597e+02, -3.19696061e+02,\n",
       "         1.39584777e+02,  3.36591899e+02,  4.63214129e+02,\n",
       "         1.94591074e+02, -1.01846269e+03, -1.99824217e+03,\n",
       "        -2.61921541e+02, -1.85007563e+03,  1.53505916e+03,\n",
       "         2.15532511e+02,  4.67477991e+02,  3.91610329e+02,\n",
       "         1.27824271e+03,  5.00028152e+02, -2.47248878e+03,\n",
       "         1.02689587e+03, -3.78091721e+02, -1.31313475e+02,\n",
       "         4.46889223e+02, -9.58949003e+02, -2.41122642e+02,\n",
       "         3.34073376e+02,  1.25255650e+03,  6.29089050e+02,\n",
       "        -1.15564317e+03, -4.95931899e+02,  1.79747056e+02,\n",
       "         1.90336563e+03,  2.72407333e+02, -1.51341061e+03,\n",
       "        -1.80703237e+02,  2.36310214e+02, -1.86833625e+02,\n",
       "         2.53709867e+02, -2.29241696e+03, -2.11916683e+02,\n",
       "        -6.08547500e+01,  9.31334011e+02,  8.53988687e+02,\n",
       "        -1.52140182e+03, -1.33837865e+03, -5.12361052e+02,\n",
       "         4.34321048e+02,  9.80040521e+02,  9.11027033e+02,\n",
       "        -5.38981519e+02, -1.34991380e+03, -4.06817020e+02,\n",
       "        -9.15450154e+02, -7.42226352e+02, -2.11872650e+03,\n",
       "         1.24032229e+03,  2.33970645e+02, -6.64957712e+02,\n",
       "         2.52233278e+02,  1.37675208e+03,  1.54037577e+03,\n",
       "        -1.37943513e+03, -1.61564326e+03, -2.43515883e+02,\n",
       "         4.82204644e+02,  8.18239160e+02, -1.82452604e+00,\n",
       "        -9.13006534e+02, -1.11553093e+03,  1.07019037e+02,\n",
       "         2.62794250e+01,  8.43515367e+02, -6.88539434e+02,\n",
       "        -1.23833786e+03, -5.20795553e+02,  1.84159522e+02,\n",
       "         1.38903852e+03, -4.64278507e+02, -6.56655157e+02,\n",
       "        -3.75666671e+02, -1.85633681e+02, -6.08617260e+02,\n",
       "         2.18843643e+02, -1.81774364e+03, -2.16869748e+02,\n",
       "        -1.64416146e+03, -5.73623313e+01,  4.55625370e+02,\n",
       "        -1.34532566e+03, -8.26026994e+02,  3.96071642e+02,\n",
       "         7.27789106e+02,  1.36505061e+03,  1.08148013e+03,\n",
       "        -4.02341867e+02, -1.26905511e+03,  3.06264581e+02,\n",
       "         8.86460420e+01,  2.51970783e+02,  1.46635984e+03,\n",
       "        -2.21821776e+02, -8.17944216e+02, -8.25499283e+02,\n",
       "        -4.22266698e+02,  6.01325222e+02, -4.14136299e+02,\n",
       "        -5.77052114e+02, -1.06993211e+03,  8.95426372e+02,\n",
       "         9.32702270e+01, -8.98610774e+02, -2.05577323e+02,\n",
       "         6.18677281e+02,  1.32381995e+03,  9.09660765e+02,\n",
       "        -1.49917229e+03,  1.64662881e+02, -4.25708388e+02,\n",
       "         5.15143996e+01,  1.21532082e+03,  4.64650783e+02,\n",
       "        -4.76634953e+02, -1.24761011e+03, -7.81152211e+02,\n",
       "         3.44667763e+02, -1.78751561e+02, -1.20745529e+02,\n",
       "        -1.30201526e+03, -1.09430456e+03, -4.64762925e+02,\n",
       "         4.69423622e+01,  8.34723591e+02, -4.10035787e+02,\n",
       "         2.37023431e+02, -2.52608543e+02, -1.59199825e+02,\n",
       "        -6.39961991e+02,  5.78820025e+02, -6.55193023e+02,\n",
       "        -9.85970362e+01, -1.96488032e+03, -7.01654532e+02,\n",
       "         7.10552344e+01, -4.97765181e+02, -1.00090725e+02,\n",
       "         6.64223833e+02, -1.23899186e+03, -3.54423008e+02,\n",
       "         1.58292382e+02, -3.61912266e+01, -5.02874070e+02,\n",
       "         9.37516844e+02,  7.94178792e+02,  1.48240237e+03,\n",
       "         1.49193470e+03,  2.07491497e+02,  1.52139467e+02,\n",
       "        -1.48923272e+01,  7.17226478e+01,  1.05655892e+03,\n",
       "         3.42749861e+01, -4.11618703e+02,  1.54385197e+03,\n",
       "        -8.03387843e+02, -1.40703242e+03, -5.15484516e+02,\n",
       "         1.70833512e+02,  3.15234579e+02,  5.52373118e+02,\n",
       "        -6.89087381e+02,  7.29168548e+01, -1.43997080e+02,\n",
       "         9.24646545e+02,  1.94836177e+02, -8.61960719e+02,\n",
       "        -4.08248588e+02,  3.97454246e+02,  4.67595617e+02,\n",
       "         6.25327426e+02, -3.99207630e+00, -7.00666703e+02,\n",
       "         1.37207252e+03,  1.05732906e+02, -4.55577630e+02,\n",
       "         8.35309912e+02,  5.13435612e+02, -2.31752975e+01,\n",
       "        -6.27279353e+02, -1.06504164e+03, -3.82023210e+02,\n",
       "         3.90679688e+02, -8.68663403e+01, -7.21520699e+02,\n",
       "        -8.89708221e+02, -6.97230893e+02, -2.84660812e+02,\n",
       "         9.76649667e+01,  3.88498740e+02, -3.99667748e+00,\n",
       "         6.53392674e+02, -1.40139171e+02,  1.10831480e+02,\n",
       "        -3.13420806e+02,  8.71955416e+02,  2.34659973e+02,\n",
       "        -6.12118677e+01, -8.83296405e+02, -3.75487355e+02,\n",
       "         4.57599246e+01,  3.05287776e+02,  4.14986672e+02,\n",
       "         5.96473875e+02, -1.44982086e+03, -6.80672496e+02,\n",
       "        -4.18702321e+02,  3.17861176e+02,  7.73943391e+01,\n",
       "         1.10966459e+03,  9.08693601e+02, -1.52643995e+02,\n",
       "        -4.93245903e+02, -5.94522525e+02,  4.12180126e+02,\n",
       "         4.36319531e+02,  4.28769956e+02,  1.27241531e+03,\n",
       "         4.57049760e+02,  1.53828238e+03,  1.11503461e+03,\n",
       "        -3.15020316e+02, -1.15435097e+01,  6.02657995e+02,\n",
       "         6.53973977e+02,  4.93524227e+02,  6.82687912e+02,\n",
       "        -4.80532471e+02, -1.18791856e+03,  9.77516581e+02,\n",
       "        -7.42056242e+02, -1.45599107e+03, -4.92901930e+02,\n",
       "         4.30598866e+02,  6.22445098e+02,  1.68552890e+02,\n",
       "        -5.66477335e+01, -1.16134012e+03,  7.59933985e+02,\n",
       "         1.63255711e+02,  8.03170358e+02,  4.17697298e+02,\n",
       "        -5.33134513e+02, -5.12172233e+02,  2.81525836e+02,\n",
       "         3.99595444e+02, -1.97270619e+01, -6.48000873e+01,\n",
       "        -6.75554271e+02,  1.39664770e+02,  1.48140082e+03,\n",
       "         5.67351890e+02, -6.97930749e+02,  2.90591676e+02,\n",
       "         1.59492150e+02,  3.87969676e-01, -1.60172121e+02,\n",
       "        -5.69943161e+02, -7.37765416e+02, -1.43822187e+01,\n",
       "         4.10193626e+02,  1.78752150e+02, -6.28877634e+02,\n",
       "         6.79688546e+01, -1.38960472e+01,  5.52620171e+01,\n",
       "         3.59337854e+02,  1.14650011e+02,  4.60225117e+02,\n",
       "         6.27739971e+02, -8.95327578e+01,  2.42811319e+02,\n",
       "        -2.19136417e+01,  8.64732352e+02,  5.91324618e+02,\n",
       "        -1.68005886e+02,  4.12151330e+02,  1.74453986e+02,\n",
       "         4.96464483e+01,  7.02343527e+02,  5.48746320e+02,\n",
       "         3.37483196e+02, -1.24522894e+02,  2.62695022e+02,\n",
       "        -4.35425629e+02,  5.53453953e+02,  2.94500359e+02,\n",
       "         9.28032058e+02,  7.08067759e+02, -4.56504769e+02,\n",
       "        -5.03458266e+02, -7.72884312e+02,  4.63413932e+02,\n",
       "         4.73693771e+02,  3.79075438e+02,  1.08462029e+03,\n",
       "         5.36279730e+02,  4.80599812e+02, -8.25454234e+02,\n",
       "        -9.04726176e+02,  2.74708007e+02,  7.33551696e+02,\n",
       "         5.70069696e+02,  4.26714526e+02,  7.13375680e+02,\n",
       "        -1.19916993e+02,  1.15377231e+03,  3.12347013e+02,\n",
       "        -3.65124325e+02, -4.68043141e+01,  6.20346968e+02,\n",
       "         8.10561716e+02,  5.76208028e+02,  1.22735056e+02,\n",
       "         1.57190885e+00, -9.26664170e+02, -1.74712763e+03,\n",
       "         1.81215813e+02, -5.41777246e+02, -9.60747839e+02,\n",
       "        -3.21032182e+02,  3.66923072e+02,  7.12744555e+02,\n",
       "         3.37702723e+02, -3.14527051e+02, -5.63930754e+02,\n",
       "        -1.38696893e+03,  1.17260305e+03,  4.12320760e+01,\n",
       "         3.17090448e+02,  4.18585866e+02, -5.77091004e+01,\n",
       "        -4.56633579e+02,  1.50367813e+02,  4.35464074e+02,\n",
       "         6.45618947e+01, -4.07679900e+02, -3.93032579e+02,\n",
       "        -8.96191366e+02,  5.92056071e+02,  7.35951139e+02,\n",
       "         5.98496075e+02, -7.84836573e+02, -5.58714676e+01,\n",
       "        -2.20961298e+02, -2.34173453e+02, -3.17930997e+01,\n",
       "        -1.47985328e+02, -4.15800040e+02, -3.49386909e+02,\n",
       "         3.70674063e+02,  5.39631822e+02,  3.60274335e+02,\n",
       "        -1.20341365e+02,  8.12853992e+02,  7.42521225e+02,\n",
       "         3.80528905e+02,  5.99096746e+02, -3.71207972e+01,\n",
       "         7.89518367e+02,  3.00712663e+02, -1.07261612e+02,\n",
       "         7.73819070e+01,  2.00836946e+01,  5.70176793e+02,\n",
       "         5.20967672e+02, -3.62997773e+02,  1.06203737e+03,\n",
       "         3.22111794e+02, -1.39069891e+02,  6.89809971e+02,\n",
       "         3.77060601e+02,  4.79967592e+00,  1.13383853e+03,\n",
       "         1.12923281e+03, -4.01064345e+02,  5.40986083e+02,\n",
       "         1.91764414e+02,  5.49937652e+02,  3.98095696e+02,\n",
       "         3.27017926e+02,  7.64681998e+02, -3.75545786e+02,\n",
       "         4.68761154e+02,  2.60124365e+02,  7.52646746e+01,\n",
       "         6.98267541e+02,  4.35879300e+02, -2.38961496e+01,\n",
       "        -6.53513642e+02, -6.22341884e+02,  3.56276035e+02,\n",
       "         4.19154150e+02,  1.38494455e+02,  1.06721839e+02,\n",
       "         5.40326947e+02,  8.82358956e+01,  6.87677007e+02,\n",
       "        -1.29364870e+03, -7.70434740e+02,  2.14801535e+02,\n",
       "         5.09271160e+02,  3.76054300e+02,  1.59065813e+02,\n",
       "        -3.11479819e+01,  9.97291828e+01, -4.79428620e+02,\n",
       "         8.02268797e+02, -3.54578524e+02, -1.94636069e+02,\n",
       "         2.24708857e+02,  4.96559345e+02,  5.07351970e+02,\n",
       "         4.35057693e+02,  6.42077660e+01, -3.51373482e+02,\n",
       "        -4.11845311e+02, -1.02234947e+03, -1.97111225e+03,\n",
       "        -2.89166406e+02, -3.98411236e+02, -3.31384144e+02,\n",
       "         3.81761847e+01,  2.10746701e+02,  5.23311445e+02,\n",
       "         4.02883635e+02, -1.29443693e+02, -6.15940463e+02,\n",
       "        -6.77384045e+02, -1.23089953e+03,  1.19434046e+03,\n",
       "        -9.60363610e+01, -3.52229080e+02,  6.55420618e+01,\n",
       "         3.20404166e+02, -2.78998375e+02,  5.80571288e+01,\n",
       "         4.28426153e+02,  2.57334063e+02, -1.95790023e+02,\n",
       "        -4.70372145e+02, -3.04528215e+02, -6.94718860e+02,\n",
       "         5.69771063e+02, -2.73307458e+02,  3.22484051e+02,\n",
       "        -7.98755939e+02, -1.16885930e+02, -3.60361494e+02,\n",
       "        -4.52131368e+02, -7.72809141e+01,  7.38616398e+01,\n",
       "        -6.38458218e+01, -1.52363430e+02,  1.12662456e+02,\n",
       "         8.13302198e+02,  8.17044843e+02,  2.05458893e+02,\n",
       "         2.18306438e+02,  7.02039782e+02,  1.15915493e+03,\n",
       "         3.90197250e+02,  5.21661639e+02, -2.78313388e+02,\n",
       "         8.02883415e+02, -2.59118355e+02, -2.32196061e+02,\n",
       "        -4.42197195e+02, -2.69706677e+02,  6.11346920e+01,\n",
       "         1.93252412e+02, -5.83384608e+02,  7.82931414e+02,\n",
       "        -1.35352441e+02, -5.45897431e+02,  4.11024933e+02,\n",
       "         5.34872108e+01, -3.06165908e+02,  1.29434770e+03,\n",
       "         1.09640638e+03, -6.32441069e+02,  2.98177494e+02,\n",
       "        -9.03356317e+01,  1.24814589e+02,  1.05250089e+02,\n",
       "         6.27967332e+02,  1.57779733e+03, -1.42356535e+02,\n",
       "         3.13232291e+02, -9.40336900e+01, -3.16860379e+02,\n",
       "         2.86512572e+02,  3.00130978e+02, -1.64932352e+02,\n",
       "         5.23308292e+02,  1.31157198e+02,  4.12453700e+02,\n",
       "        -1.51473848e+01, -3.83603704e+02, -2.84753241e+02,\n",
       "         3.02995479e+02,  2.05572688e+02, -4.20136831e+01,\n",
       "        -1.03278318e+03, -1.72283836e+02,  4.02563553e+02,\n",
       "         4.07791557e+01, -3.08384453e+02, -3.84369013e+02,\n",
       "        -2.68605739e+02,  1.26799610e+02, -9.41967227e+01,\n",
       "         8.57332330e+02, -1.41684949e+03, -3.61104086e+02,\n",
       "         3.94714968e+02,  1.19117682e+02, -2.06799040e+02,\n",
       "        -2.59997530e+02, -3.34354848e+02, -3.70457892e+02,\n",
       "        -1.54720637e+02, -4.62200972e+02,  7.43230869e+02,\n",
       "        -3.54065417e+02,  1.37623756e+02,  6.16958343e+02,\n",
       "         3.56934389e+02, -5.64805397e+01, -4.03956151e+01,\n",
       "        -1.06110564e+02, -3.52460626e+02, -5.23222249e+02,\n",
       "        -3.94696352e+02, -7.45845371e+02, -1.92580780e+03,\n",
       "        -7.10787419e+01, -2.07736733e+02,  1.03192500e+02,\n",
       "         3.59655909e+02, -1.10577994e+01,  1.49903764e+02,\n",
       "         2.53716835e+02,  9.84028291e+00, -3.63066338e+02,\n",
       "        -5.49401980e+02, -3.98753098e+02, -7.54720896e+02,\n",
       "         8.31264984e+02,  1.32252644e+02, -8.49991737e+02,\n",
       "        -4.89612870e+02,  4.42504846e+02, -9.00377056e+01,\n",
       "         7.70607561e+00,  4.01134571e+02,  4.11798677e+02,\n",
       "         1.10062552e+02, -1.77771706e+02, -1.98135625e+02,\n",
       "         1.01877460e+02, -2.02318363e+02,  1.43661217e+02,\n",
       "        -9.28644085e+02,  1.42553610e+02, -6.26653253e+02,\n",
       "         1.40421448e+02, -1.38469780e+02, -4.48397091e+02,\n",
       "        -1.10979871e+02,  1.96731465e+02,  2.03684852e+02,\n",
       "         1.34923805e+02,  2.40598425e+02,  6.47593103e+02,\n",
       "         1.30951292e+03,  1.21224124e+03, -4.72679417e+02,\n",
       "        -2.27335596e+02, -6.35480893e+02,  7.78700328e+02,\n",
       "        -2.04973917e+02, -9.34732134e+01, -9.16450020e+02,\n",
       "         3.35063939e+02, -1.05399740e+03, -5.19113153e+02,\n",
       "        -1.38964681e+03, -9.33697497e+02, -6.18528647e+02,\n",
       "        -2.74379789e+02, -8.01472085e+02, -3.99661775e+02,\n",
       "        -1.16020838e+03, -1.12329108e+03,  2.24125667e+00,\n",
       "        -3.00209861e+02, -5.42212111e+02,  7.37683184e+01,\n",
       "        -6.53612646e-01, -1.17604751e+03, -8.01627356e+01,\n",
       "        -4.17139499e+02, -2.43025727e+02, -1.03799124e+02,\n",
       "        -5.08893272e+02,  1.00616752e+03, -4.62476733e+02,\n",
       "        -2.99581186e+01, -4.85402915e+02, -6.74780442e+02,\n",
       "        -4.69506550e+01,  2.09670494e+02, -1.26569237e+03,\n",
       "         8.12796154e+02,  3.81179717e+02,  2.46578822e+02,\n",
       "        -4.81302406e+02, -8.59276959e+02, -6.21145414e+02,\n",
       "         1.07887012e+02,  3.07907024e+02, -1.20169094e+03,\n",
       "        -2.78134141e+02,  6.71176252e+02,  5.37660291e+02,\n",
       "        -4.55243842e+02, -9.49287949e+02, -8.66955948e+02,\n",
       "        -4.79042983e+02,  1.43333637e+02,  2.30127916e+02,\n",
       "        -8.94811550e+01, -1.13412132e+03,  4.06542556e+02,\n",
       "         6.49647911e+02, -4.41072075e+02, -1.03118439e+03,\n",
       "        -9.60973620e+02, -7.07264554e+02, -3.86445238e+02,\n",
       "         8.38051560e+01,  5.99415125e+01,  1.23171838e+03,\n",
       "        -7.72599049e+02,  3.19523292e+02,  7.27258591e+02,\n",
       "        -3.28189909e+02, -1.05159893e+03, -9.62822095e+02,\n",
       "        -7.13057487e+02, -5.47382060e+02, -3.54601830e+02,\n",
       "        -4.08554767e-01, -1.14656465e+02,  9.78499804e+02,\n",
       "         5.60401103e+02,  7.34713064e+02,  9.41040076e+02,\n",
       "         9.19051069e+01, -8.44835242e+02, -7.95481362e+02,\n",
       "        -5.19079522e+02, -4.19073390e+02, -4.18600037e+02,\n",
       "        -3.17614008e+02, -1.99274087e+01, -2.03770844e+02,\n",
       "        -1.76558550e+03,  9.61772373e+02,  2.35317611e+02,\n",
       "         2.70377538e+02,  3.85590992e+02, -4.27655795e+02,\n",
       "        -4.09278400e+02, -8.71743288e+01, -9.74708639e+00,\n",
       "        -1.36653522e+02, -2.42477544e+02, -1.55298845e+02,\n",
       "         1.46090872e+02, -8.74798378e+01,  1.41569841e+02,\n",
       "         9.84138143e+02, -8.24280958e+02, -9.22785711e+02,\n",
       "         3.46078794e+02,  1.54829911e+01, -4.35513553e+01,\n",
       "         3.61549522e+02,  5.26566005e+02,  3.86609174e+02,\n",
       "         1.83690537e+02,  1.26924936e+02,  3.11630287e+02,\n",
       "         6.88910698e+02,  4.39610958e+02, -5.75996344e+02,\n",
       "        -7.51516984e+02,  5.29193571e+02,  1.20243790e-01,\n",
       "         8.26781495e+02,  5.17394683e+02, -8.50362395e+01,\n",
       "         1.23400612e+01,  3.30231831e+02,  4.28704930e+02,\n",
       "         4.09252140e+02,  4.76948047e+02,  7.43167931e+02,\n",
       "         1.22573413e+03,  1.82819928e+03,  1.67056680e+03]])"
      ]
     },
     "execution_count": 24,
     "metadata": {},
     "output_type": "execute_result"
    }
   ],
   "source": [
    "overkill_poly = Pipeline([\n",
    "    ('overkill_poly', PolynomialFeatures(degree=15, include_bias=True, interaction_only=False)),\n",
    "    ('scaler', StandardScaler()),\n",
    "    ('reg', LinearRegression())\n",
    "])\n",
    "overkill_poly.fit(X_train, y_train)\n",
    "overkill_poly.named_steps['reg'].coef_"
   ]
  },
  {
   "cell_type": "code",
   "execution_count": 25,
   "metadata": {
    "ExecuteTime": {
     "end_time": "2022-04-06T14:46:52.819901Z",
     "start_time": "2022-04-06T14:46:52.812822Z"
    }
   },
   "outputs": [
    {
     "name": "stdout",
     "output_type": "stream",
     "text": [
      "Mean square error (MSE): 7433991885.91\n",
      "Root mean square error (RMSE): 86220.60\n",
      "Mean absolute error (MAE): 12567.51\n",
      "Coefficient of determination (R^2): -0.02\n"
     ]
    }
   ],
   "source": [
    "y_pred = overkill_poly.predict(X_val)\n",
    "evaluate_regression(y_val, y_pred)"
   ]
  },
  {
   "cell_type": "markdown",
   "metadata": {},
   "source": [
    "Apparently not...  \n",
    "Let's try a Ridge regression model instead"
   ]
  },
  {
   "cell_type": "code",
   "execution_count": 26,
   "metadata": {
    "ExecuteTime": {
     "end_time": "2022-04-06T14:46:52.848794Z",
     "start_time": "2022-04-06T14:46:52.822260Z"
    }
   },
   "outputs": [
    {
     "data": {
      "text/plain": [
       "array([[ 0.00000000e+00,  3.48205460e+00,  4.80323945e-01,\n",
       "         1.24816224e-01, -5.23330112e-01,  2.35097257e+00,\n",
       "         3.85012816e-01, -9.37602136e-03,  3.06588406e-01,\n",
       "        -1.09075811e-01, -9.35444681e-01,  4.17551716e-01,\n",
       "        -6.21160562e-01,  8.82349220e-01,  4.86930646e-01,\n",
       "         2.18572357e-01, -3.90689780e-02, -4.33620788e-02,\n",
       "        -1.57086038e-01, -1.16783987e-02, -6.30433333e-01,\n",
       "         6.95496776e-02, -5.11590177e-01, -5.15601279e-02,\n",
       "        -1.41097995e-01, -1.49010120e-01,  3.09441475e-01,\n",
       "         1.76632184e-01,  1.31830529e-01,  1.45097756e-01,\n",
       "         4.21349982e-02, -9.77667195e-02, -2.44507618e-01,\n",
       "        -1.23598168e-01,  7.41279159e-02, -2.93362914e-01,\n",
       "         1.02579872e-01, -2.18719630e-01, -1.34450751e-01,\n",
       "        -1.41151171e-01, -9.00579972e-02, -2.05905552e-01,\n",
       "        -1.49861002e-01, -1.01964359e-01, -4.53672556e-02,\n",
       "         9.75597180e-02,  6.76744718e-02,  4.27152150e-02,\n",
       "         5.29660149e-02,  6.31858285e-02,  1.05140489e-01,\n",
       "        -6.18132526e-02, -1.98021259e-01, -1.55859398e-01,\n",
       "        -6.87384526e-03,  9.75733009e-02, -5.84670466e-02,\n",
       "         1.66309620e-01,  3.58205775e-03, -4.05990346e-02,\n",
       "        -4.04828755e-02,  2.76232346e-02, -1.86275130e-01,\n",
       "        -1.00233573e-01, -7.43594235e-02, -2.78801071e-02,\n",
       "        -2.11379578e-01, -1.13059146e-01, -7.47886941e-02,\n",
       "        -6.04974828e-02, -4.82753331e-02,  1.87441029e-02,\n",
       "         3.59862206e-02,  3.18347061e-02,  1.89167072e-02,\n",
       "         2.40699716e-02,  6.71560631e-03,  1.25597102e-01,\n",
       "        -1.76474101e-02, -1.27385290e-01, -1.17475120e-01,\n",
       "        -3.93378444e-02,  5.80182118e-02,  8.30503226e-02,\n",
       "         7.49097619e-02,  1.90851445e-01,  1.27877120e-01,\n",
       "         3.76596943e-02,  2.42131868e-02,  1.04950995e-01,\n",
       "        -7.62831744e-02, -1.33630860e-02, -1.93970908e-02,\n",
       "         1.97180849e-02, -1.60811756e-01, -4.86162521e-02,\n",
       "        -3.18546627e-02, -4.37741816e-02, -4.05445488e-02,\n",
       "        -1.74216137e-01, -7.13023565e-02, -3.01880539e-02,\n",
       "        -3.94956443e-02, -4.14543579e-02, -5.84745363e-02,\n",
       "        -9.24004297e-03,  2.56285686e-02,  3.86829066e-02,\n",
       "         2.40310944e-02,  6.01248114e-03,  8.48658033e-03,\n",
       "        -2.44257997e-02,  1.11611404e-01,  1.35099488e-02,\n",
       "        -6.90945721e-02, -6.87716556e-02, -2.89468759e-02,\n",
       "         2.18610334e-02,  7.23192847e-02,  5.62085481e-02,\n",
       "         1.34108340e-01,  1.76997599e-01,  1.78514801e-01,\n",
       "         7.06778276e-02,  4.39503541e-02,  1.37319311e-01,\n",
       "         4.07667844e-03,  3.14510615e-02,  8.29066343e-03,\n",
       "         4.98938567e-02, -6.12719938e-02,  2.42176973e-02,\n",
       "         1.21680025e-02, -1.59625811e-02, -1.45311006e-02,\n",
       "        -1.19795698e-01, -1.08894800e-02,  1.40160445e-02,\n",
       "        -1.59579218e-02, -3.12279334e-02, -4.97584363e-02,\n",
       "        -1.30553265e-01, -4.31049475e-02,  4.20203417e-03,\n",
       "        -9.37002616e-03, -2.91006780e-02, -3.08870905e-02,\n",
       "        -6.04681345e-02, -1.59915734e-02,  1.95401399e-02,\n",
       "         4.28229516e-02,  3.52681600e-02,  8.78509470e-03,\n",
       "        -3.79867852e-03, -5.87204601e-04, -3.84938749e-02,\n",
       "         7.72976609e-02,  3.00608440e-02, -2.98102762e-02,\n",
       "        -2.93570558e-02, -7.34482363e-03,  1.45566076e-02,\n",
       "         3.76806904e-02,  6.29258736e-02,  3.10325059e-02,\n",
       "         1.45321208e-01,  1.38690530e-01,  1.83313858e-01,\n",
       "         6.75751307e-02,  3.45814622e-02,  1.39312697e-01,\n",
       "         4.11815589e-02,  3.72857660e-02,  1.09619485e-02,\n",
       "         6.04898017e-02,  7.91605570e-03,  5.52229582e-02,\n",
       "         2.67873500e-02, -3.31063038e-03,  3.20526692e-03,\n",
       "        -3.88128737e-02,  4.55524729e-02,  4.69413647e-02,\n",
       "         5.47916589e-03, -1.47341960e-02, -3.02559404e-02,\n",
       "        -8.22451079e-02,  5.93821051e-03,  4.33506883e-02,\n",
       "         1.31939032e-02, -1.49292245e-02, -2.25153442e-02,\n",
       "        -4.91830421e-02, -9.00296866e-02, -2.88048711e-02,\n",
       "         2.22461200e-02,  1.37085594e-02, -1.27112347e-02,\n",
       "        -2.41679004e-02, -2.31580320e-02, -5.60972416e-02,\n",
       "        -1.23611935e-02,  1.38490637e-02,  3.98739887e-02,\n",
       "         4.18387434e-02,  1.59473357e-02, -4.76387082e-03,\n",
       "        -9.46846317e-03, -4.90855425e-03, -4.21648308e-02,\n",
       "         3.46912906e-02,  3.55628227e-02, -7.32059613e-03,\n",
       "        -3.79237150e-03,  1.31542419e-02,  2.02082335e-02,\n",
       "         2.33378190e-02,  3.34019669e-02,  4.78682679e-02,\n",
       "         1.25823770e-02,  1.28032632e-01,  8.84616053e-02,\n",
       "         1.63006213e-01,  4.25294588e-02,  1.10419561e-02,\n",
       "         1.24639647e-01,  4.56860817e-02,  2.03687202e-02,\n",
       "        -4.47790219e-04,  5.83027309e-02,  4.03100735e-02,\n",
       "         5.21042125e-02,  1.95226406e-02, -3.66894285e-03,\n",
       "         1.09890695e-02,  1.53009369e-02,  6.45199466e-02,\n",
       "         5.07479818e-02,  1.04362375e-02, -6.82936457e-03,\n",
       "        -1.59607369e-02, -2.07068461e-02,  4.63803566e-02,\n",
       "         6.57813296e-02,  2.73257702e-02, -1.89765541e-03,\n",
       "        -1.05743037e-02, -3.21354276e-02, -5.11831049e-02,\n",
       "         6.56158719e-03,  5.39172960e-02,  3.24325834e-02,\n",
       "         7.36416312e-04, -1.30934286e-02, -1.48793803e-02,\n",
       "        -4.31039535e-02, -5.37469755e-02, -2.37271572e-02,\n",
       "         2.55909418e-02,  2.61090263e-02,  1.18196584e-04,\n",
       "        -1.62686793e-02, -1.92438716e-02, -1.64070321e-02,\n",
       "        -4.83540551e-02, -2.42523733e-03,  8.67746503e-03,\n",
       "         3.08046807e-02,  4.04277066e-02,  2.10506610e-02,\n",
       "        -1.69369932e-03, -1.22623707e-02, -1.10709274e-02,\n",
       "        -5.62404330e-03, -3.98003695e-02, -7.88399171e-03,\n",
       "         3.41365763e-02,  2.60501420e-03,  8.50029456e-03,\n",
       "         2.74386609e-02,  3.05402424e-02,  2.17598728e-02,\n",
       "         1.80715956e-02,  2.45677227e-02,  3.48764580e-02,\n",
       "         1.30014275e-03,  9.54021933e-02,  3.48489987e-02,\n",
       "         1.30989738e-01,  6.76678969e-03, -1.68904730e-02,\n",
       "         1.02603353e-01,  3.03480830e-02, -6.21897607e-03,\n",
       "        -1.73633674e-02,  4.95780784e-02,  4.56422014e-02,\n",
       "         3.02302976e-02,  1.52258608e-03, -1.09508185e-02,\n",
       "         1.21679010e-02,  3.98451265e-02,  5.48298687e-02,\n",
       "         3.52717236e-02,  3.85117646e-03, -6.33818321e-03,\n",
       "        -7.94410220e-03,  1.83780149e-02,  5.53679047e-02,\n",
       "         6.09012473e-02,  2.50934926e-02,  1.62134302e-03,\n",
       "        -4.17130272e-03, -1.92694720e-02, -7.62403693e-03,\n",
       "         3.23234553e-02,  6.71107621e-02,  3.96433827e-02,\n",
       "         9.48248841e-03, -3.01840886e-03, -4.98807583e-03,\n",
       "        -2.75967037e-02, -2.50828066e-02, -1.93247012e-03,\n",
       "         4.86554127e-02,  4.01771836e-02,  1.09507339e-02,\n",
       "        -5.34284263e-03, -9.04731051e-03, -7.98238167e-03,\n",
       "        -3.48144344e-02, -2.05527866e-02, -2.30259073e-02,\n",
       "         1.84388619e-02,  2.75152373e-02,  6.97534854e-03,\n",
       "        -9.86640721e-03, -1.56764146e-02, -1.36616358e-02,\n",
       "        -1.00649217e-02, -3.92152645e-02,  1.21584284e-02,\n",
       "         5.03160184e-03,  1.82460705e-02,  3.07367984e-02,\n",
       "         2.10663569e-02,  1.30170072e-03, -1.14433625e-02,\n",
       "        -1.42128999e-02, -9.57259608e-03, -3.84933095e-03,\n",
       "        -3.41717623e-02, -4.54117186e-02,  2.91615863e-02,\n",
       "         4.04920655e-03,  1.00097370e-02,  3.33982374e-02,\n",
       "         4.06986849e-02,  2.72832900e-02,  1.38550067e-02,\n",
       "         1.09019448e-02,  1.74113331e-02,  2.59946224e-02,\n",
       "        -4.15646763e-03,  5.58464417e-02, -1.70885404e-02,\n",
       "         9.52470036e-02, -3.23565825e-02, -4.37890328e-02,\n",
       "         7.87097979e-02,  4.91664957e-03, -3.44349846e-02,\n",
       "        -3.46826258e-02,  3.84360326e-02,  3.45230280e-02,\n",
       "         1.19702648e-03, -1.94443998e-02, -2.05674816e-02,\n",
       "         9.92101656e-03,  4.30850221e-02,  3.00868134e-02,\n",
       "         1.14530157e-02, -7.93598929e-03, -9.81102717e-03,\n",
       "        -4.23039823e-03,  3.45372268e-02,  4.13158096e-02,\n",
       "         3.93077398e-02,  1.27877962e-02, -1.59277955e-03,\n",
       "        -2.59236216e-03, -1.10848128e-02,  1.77250937e-02,\n",
       "         3.30008044e-02,  5.56512846e-02,  3.12751611e-02,\n",
       "         8.74251767e-03,  8.42340011e-04,  8.10450335e-04,\n",
       "        -1.58282727e-02,  2.52585598e-03,  1.07844071e-02,\n",
       "         5.36345143e-02,  4.13247128e-02,  1.54226129e-02,\n",
       "         2.34873275e-03, -2.44174373e-04,  6.93972246e-04,\n",
       "        -2.07578258e-02, -1.75918905e-03, -1.35210220e-02,\n",
       "         3.23825490e-02,  3.67663458e-02,  1.45583447e-02,\n",
       "        -5.32372535e-04, -5.29829889e-03, -3.92197202e-03,\n",
       "        -1.77628899e-03, -2.60410876e-02,  1.09019805e-02,\n",
       "        -2.30991997e-02,  5.63356102e-03,  1.89146430e-02,\n",
       "         6.88734894e-03, -6.65474401e-03, -1.25466916e-02,\n",
       "        -1.20804280e-02, -7.74835210e-03, -4.04648406e-03,\n",
       "        -2.98403941e-02,  3.05380438e-02,  3.79091280e-03,\n",
       "         4.90100099e-03,  1.44559785e-02,  1.42371147e-02,\n",
       "         1.81221652e-03, -9.71668148e-03, -1.43276004e-02,\n",
       "        -1.23684925e-02, -6.10259610e-03, -5.79567255e-04,\n",
       "        -2.70344654e-02, -7.53144646e-02,  2.30591476e-02,\n",
       "         3.20112688e-04,  3.72816355e-03,  3.09459629e-02,\n",
       "         4.72311716e-02,  3.61159960e-02,  1.68270247e-02,\n",
       "         6.19331803e-03,  6.21604822e-03,  1.33783944e-02,\n",
       "         2.09304786e-02, -5.49283211e-03,  1.45195272e-02,\n",
       "        -6.47267412e-02,  6.02076771e-02, -7.05489379e-02,\n",
       "        -6.70929675e-02,  5.58949298e-02, -2.42365974e-02,\n",
       "        -6.00690225e-02, -4.98601550e-02,  2.72167244e-02,\n",
       "         1.49470767e-02, -2.80668778e-02, -3.90729673e-02,\n",
       "        -2.98669228e-02,  6.36229653e-03,  3.35331839e-02,\n",
       "         2.41445717e-04, -1.35552532e-02, -2.06552590e-02,\n",
       "        -1.46197089e-02, -2.90565362e-03,  3.46296633e-02,\n",
       "         1.57087999e-02,  1.13823040e-02, -3.26378134e-03,\n",
       "        -7.87776961e-03, -3.68674360e-03, -6.18586652e-03,\n",
       "         2.58735069e-02,  1.60732934e-02,  3.00046874e-02,\n",
       "         1.42693170e-02,  2.08325786e-03,  1.97620351e-04,\n",
       "         3.09285219e-03, -7.87851134e-03,  1.56582597e-02,\n",
       "         4.39907776e-03,  3.72144547e-02,  2.79790577e-02,\n",
       "         1.08728296e-02,  3.77789642e-03,  3.97754865e-03,\n",
       "         6.06516208e-03, -1.01139191e-02,  1.18684327e-02,\n",
       "        -1.21110304e-02,  2.97891531e-02,  3.26919228e-02,\n",
       "         1.51375719e-02,  4.61558032e-03,  2.16914894e-03,\n",
       "         4.01936247e-03,  5.91637126e-03, -1.34987338e-02,\n",
       "         2.04987588e-02, -2.41545926e-02,  1.05383369e-02,\n",
       "         2.32782427e-02,  1.11364817e-02,  4.72240851e-04,\n",
       "        -3.11468343e-03, -2.04982615e-03,  1.38777999e-03,\n",
       "         3.76074633e-03, -1.76145688e-02,  4.15955794e-02,\n",
       "        -2.17279873e-02, -8.55854749e-03,  2.60077800e-03,\n",
       "        -7.37409734e-04, -7.65660095e-03, -1.10198688e-02,\n",
       "        -1.04674498e-02, -7.01326666e-03, -1.89642865e-03,\n",
       "         1.56698997e-03, -2.08862560e-02,  5.20890161e-02,\n",
       "         5.45418944e-03, -7.13760097e-03, -5.57030897e-03,\n",
       "         3.40860428e-05, -2.03314457e-03, -8.88816798e-03,\n",
       "        -1.31967874e-02, -1.27687150e-02, -8.34087557e-03,\n",
       "        -1.61720227e-03,  3.40628559e-03, -1.94781484e-02,\n",
       "        -9.66410066e-02,  1.74144095e-02, -6.12691026e-03,\n",
       "        -7.57577654e-03,  2.13845943e-02,  4.79712802e-02,\n",
       "         4.51528363e-02,  2.42507519e-02,  7.70296858e-03,\n",
       "         1.90648949e-03,  4.61889233e-03,  1.20820409e-02,\n",
       "         1.87159636e-02, -4.20482647e-03, -2.55717464e-02,\n",
       "        -1.06976629e-01,  2.81102791e-02, -1.05596078e-01,\n",
       "        -8.59269553e-02,  3.55253913e-02, -5.33525738e-02,\n",
       "        -8.13289884e-02, -6.19157375e-02,  1.70828042e-02,\n",
       "        -7.86624391e-03, -5.40390936e-02, -5.54121788e-02,\n",
       "        -3.75875652e-02,  2.69259018e-03,  1.75214327e-02,\n",
       "        -2.88534931e-02, -3.59791430e-02, -3.20190850e-02,\n",
       "        -1.92334309e-02, -2.67327245e-03,  2.53573643e-02,\n",
       "        -1.32141068e-02, -1.63468832e-02, -1.90806838e-02,\n",
       "        -1.47298076e-02, -5.78675894e-03, -3.24324442e-03,\n",
       "         2.24917490e-02, -9.10653188e-03, -2.51308448e-04,\n",
       "        -5.20212457e-03, -6.81329631e-03, -2.63887167e-03,\n",
       "         3.34540806e-03, -2.64372876e-03,  1.64043009e-02,\n",
       "        -1.45914574e-02,  9.17131290e-03,  7.34548846e-03,\n",
       "         1.24786405e-03,  1.14286166e-03,  4.84745521e-03,\n",
       "         8.68091468e-03, -2.69882208e-03,  1.41829632e-02,\n",
       "        -2.45757469e-02,  9.43300722e-03,  1.54110850e-02,\n",
       "         7.35469202e-03,  3.78439656e-03,  4.97576404e-03,\n",
       "         8.31596366e-03,  1.08334930e-02, -4.03583954e-03,\n",
       "         2.18655387e-02, -3.23735536e-02,  8.30906138e-04,\n",
       "         1.46059599e-02,  8.31261007e-03,  3.21090088e-03,\n",
       "         2.80621829e-03,  5.10736233e-03,  8.50625408e-03,\n",
       "         1.05172617e-02, -6.61595566e-03,  4.27463189e-02,\n",
       "        -3.16012933e-02, -1.20040579e-02,  1.85560493e-03,\n",
       "         3.43008574e-04, -2.90699759e-03, -3.10147845e-03,\n",
       "        -1.01310765e-03,  2.40985512e-03,  6.41205127e-03,\n",
       "         8.64255353e-03, -9.91532404e-03,  7.20768207e-02,\n",
       "        -1.77947814e-02, -2.10979247e-02, -1.80354176e-02,\n",
       "        -1.59166154e-02, -1.37934382e-02, -1.19546231e-02,\n",
       "        -9.58375635e-03, -6.08596188e-03, -1.50048935e-03,\n",
       "         3.60604943e-03,  6.67048597e-03, -1.27009957e-02,\n",
       "         7.62315834e-02,  1.01551169e-02, -1.65427380e-02,\n",
       "        -2.63574512e-02, -2.05498342e-02, -1.17037346e-02,\n",
       "        -1.04429834e-02, -1.21288921e-02, -1.19288612e-02,\n",
       "        -8.76322891e-03, -3.30754928e-03,  3.18905476e-03,\n",
       "         7.56282675e-03, -1.21478404e-02, -1.09441744e-01,\n",
       "         1.31753637e-02, -1.35759242e-02, -2.16630791e-02,\n",
       "         6.65107555e-03,  4.22484443e-02,  5.17205095e-02,\n",
       "         3.39409330e-02,  1.34700922e-02,  2.57718534e-03,\n",
       "         9.97500879e-04,  5.41304906e-03,  1.26764705e-02,\n",
       "         1.83788955e-02, -1.42287015e-03, -6.27943299e-02,\n",
       "        -1.43645542e-01, -9.92615959e-05, -1.36575995e-01,\n",
       "        -1.00321139e-01,  1.80722812e-02, -8.04410052e-02,\n",
       "        -9.77994518e-02, -7.07285918e-02,  8.49717520e-03,\n",
       "        -3.08289001e-02, -7.53133304e-02, -6.78898706e-02,\n",
       "        -4.33053778e-02, -4.95978660e-04, -8.45845948e-04,\n",
       "        -5.42861414e-02, -5.42493582e-02, -4.10607319e-02,\n",
       "        -2.29206769e-02, -2.77731710e-03,  1.16103974e-02,\n",
       "        -4.06716663e-02, -4.05662726e-02, -3.26611756e-02,\n",
       "        -2.07893486e-02, -7.89992070e-03, -1.34244223e-03,\n",
       "         1.27883653e-02, -3.59702236e-02, -2.92458416e-02,\n",
       "        -2.34433192e-02, -1.55892961e-02, -6.04667267e-03,\n",
       "         2.72710731e-03,  8.87652973e-04,  9.48195830e-03,\n",
       "        -3.87699125e-02, -2.19254233e-02, -1.46394032e-02,\n",
       "        -9.84348977e-03, -3.21556539e-03,  3.97066325e-03,\n",
       "         9.65044930e-03,  2.40554688e-03,  8.12674985e-03,\n",
       "        -4.52406696e-02, -1.98885790e-02, -7.86866068e-03,\n",
       "        -4.69018552e-03, -6.14649014e-04,  4.67641764e-03,\n",
       "         9.96118757e-03,  1.35115462e-02,  2.67399122e-03,\n",
       "         1.45507665e-02, -5.01056474e-02, -2.29122080e-02,\n",
       "        -5.77323831e-03, -2.11587415e-03,  4.17272683e-04,\n",
       "         4.24320638e-03,  8.53981669e-03,  1.26241022e-02,\n",
       "         1.49221391e-02,  1.65694163e-03,  3.32949351e-02,\n",
       "        -4.79600392e-02, -2.82956688e-02, -1.11464880e-02,\n",
       "        -5.38328387e-03, -2.29514585e-03,  1.28155983e-03,\n",
       "         5.15890375e-03,  9.03763757e-03,  1.26779049e-02,\n",
       "         1.44829860e-02, -4.19997095e-04,  6.54951431e-02,\n",
       "        -3.49502072e-02, -3.17714172e-02, -2.41744574e-02,\n",
       "        -1.78625379e-02, -1.12999923e-02, -5.77469388e-03,\n",
       "        -1.19574774e-03,  2.97353745e-03,  7.04869731e-03,\n",
       "         1.09391691e-02,  1.28855324e-02, -3.09332569e-03,\n",
       "         1.02557921e-01, -1.09338765e-02, -3.02393844e-02,\n",
       "        -3.93267976e-02, -3.76269860e-02, -2.58980979e-02,\n",
       "        -1.61601736e-02, -1.00788175e-02, -5.43264950e-03,\n",
       "        -8.94664685e-04,  3.87210300e-03,  8.58402330e-03,\n",
       "         1.11924510e-02, -5.43863831e-03,  1.02395433e-01,\n",
       "         1.77573521e-02, -2.26525180e-02, -4.55275848e-02,\n",
       "        -4.51605921e-02, -2.79856005e-02, -1.57410079e-02,\n",
       "        -1.21943122e-02, -1.07782722e-02, -8.10100653e-03,\n",
       "        -3.66489920e-03,  1.95849319e-03,  7.86576638e-03,\n",
       "         1.15463390e-02, -5.39373945e-03, -1.14331943e-01,\n",
       "         1.08394962e-02, -2.08888796e-02, -3.68736339e-02,\n",
       "        -1.13075736e-02,  3.07212195e-02,  5.38116841e-02,\n",
       "         4.39101994e-02,  2.20389189e-02,  6.81355238e-03,\n",
       "         1.20105542e-03,  2.50394425e-03,  7.68674834e-03,\n",
       "         1.43753190e-02,  1.91524351e-02,  2.07125003e-03]])"
      ]
     },
     "execution_count": 26,
     "metadata": {},
     "output_type": "execute_result"
    }
   ],
   "source": [
    "from sklearn.linear_model import Ridge\n",
    "ridge = Pipeline([\n",
    "    ('overkill_poly', PolynomialFeatures(degree=15, include_bias=True, interaction_only=False)),\n",
    "    ('scaler', StandardScaler()),\n",
    "    ('ridge', Ridge(alpha=1.0))\n",
    "])\n",
    "ridge.fit(X_train, y_train)\n",
    "ridge.named_steps['ridge'].coef_"
   ]
  },
  {
   "cell_type": "code",
   "execution_count": 27,
   "metadata": {
    "ExecuteTime": {
     "end_time": "2022-04-06T14:46:52.858963Z",
     "start_time": "2022-04-06T14:46:52.850847Z"
    }
   },
   "outputs": [
    {
     "name": "stdout",
     "output_type": "stream",
     "text": [
      "Mean square error (MSE): 24.24\n",
      "Root mean square error (RMSE): 4.92\n",
      "Mean absolute error (MAE): 1.48\n",
      "Coefficient of determination (R^2): 0.46\n"
     ]
    }
   ],
   "source": [
    "y_pred = ridge.predict(X_val)\n",
    "evaluate_regression(y_val, y_pred)"
   ]
  },
  {
   "cell_type": "code",
   "execution_count": null,
   "metadata": {},
   "outputs": [],
   "source": []
  }
 ],
 "metadata": {
  "kernelspec": {
   "display_name": "Python 3",
   "language": "python",
   "name": "python3"
  },
  "language_info": {
   "codemirror_mode": {
    "name": "ipython",
    "version": 3
   },
   "file_extension": ".py",
   "mimetype": "text/x-python",
   "name": "python",
   "nbconvert_exporter": "python",
   "pygments_lexer": "ipython3",
   "version": "3.7.4"
  }
 },
 "nbformat": 4,
 "nbformat_minor": 4
}
